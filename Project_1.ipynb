{
 "cells": [
  {
   "cell_type": "markdown",
   "id": "124ce289-f184-4792-a279-09d576294115",
   "metadata": {},
   "source": [
    "## FIFA PROJECT"
   ]
  },
  {
   "cell_type": "code",
   "execution_count": 282,
   "id": "112f0224-8cf6-47c7-8d70-59b657b868e4",
   "metadata": {},
   "outputs": [],
   "source": [
    "import pandas as pd\n",
    "import numpy as np\n",
    "import matplotlib. pyplot as plt\n",
    "import seaborn as sns\n",
    "import pylab\n",
    "import scipy.stats as stats\n"
   ]
  },
  {
   "cell_type": "code",
   "execution_count": 307,
   "id": "9f2d0ca8-aa1d-440f-8f40-7d063db39660",
   "metadata": {},
   "outputs": [],
   "source": [
    "\n",
    "df=pd.read_csv('fifa21_male2.csv', low_memory=False)"
   ]
  },
  {
   "cell_type": "code",
   "execution_count": 308,
   "id": "c3782daa-2fc5-40c3-aac6-bebba95c185c",
   "metadata": {},
   "outputs": [
    {
     "data": {
      "text/plain": [
       "Index(['ID', 'Name', 'Age', 'OVA', 'Nationality', 'Club', 'BOV', 'BP',\n",
       "       'Position', 'Player Photo',\n",
       "       ...\n",
       "       'CDM', 'RDM', 'RWB', 'LB', 'LCB', 'CB', 'RCB', 'RB', 'GK', 'Gender'],\n",
       "      dtype='object', length=107)"
      ]
     },
     "execution_count": 308,
     "metadata": {},
     "output_type": "execute_result"
    }
   ],
   "source": [
    "df.columns"
   ]
  },
  {
   "cell_type": "code",
   "execution_count": null,
   "id": "adeb3cae-7b86-4981-8872-2f35beb377ab",
   "metadata": {},
   "outputs": [],
   "source": [
    "df.transpose()"
   ]
  },
  {
   "cell_type": "code",
   "execution_count": 309,
   "id": "0fe7b284-1f61-488b-9bdb-4c64b0f15541",
   "metadata": {},
   "outputs": [],
   "source": [
    "df=df.drop(['Player Photo','Club Logo','Flag Photo'],axis=1) #We drop all columns that contain images"
   ]
  },
  {
   "cell_type": "markdown",
   "id": "cc758027-11c0-4699-9754-8e66dd89a7df",
   "metadata": {},
   "source": [
    "### Length, Weight and Count Columns"
   ]
  },
  {
   "cell_type": "code",
   "execution_count": 310,
   "id": "c501c6a7-4f63-4155-b6f0-523ce905f2e6",
   "metadata": {},
   "outputs": [],
   "source": [
    "def to_cm(x): #Converts Feet and Inches to cm, only works if we remove the last \"\n",
    "    feet, inches = x.split(\"'\")\n",
    "    feet = int(feet)\n",
    "    inches = int(inches.strip('\"'))\n",
    "    return 2.54*((feet * 12) + inches)"
   ]
  },
  {
   "cell_type": "code",
   "execution_count": 311,
   "id": "db8fe671-733d-412a-a886-6c4a1bc661af",
   "metadata": {},
   "outputs": [
    {
     "data": {
      "text/plain": [
       "182.88"
      ]
     },
     "execution_count": 311,
     "metadata": {},
     "output_type": "execute_result"
    }
   ],
   "source": [
    "to_cm(\"6'0\")"
   ]
  },
  {
   "cell_type": "code",
   "execution_count": 312,
   "id": "38e3e5bb-a4f0-4a16-9d94-cb6275c635ce",
   "metadata": {},
   "outputs": [],
   "source": [
    "df['Height'] = df['Height'].str[:-1] # removed the last \""
   ]
  },
  {
   "cell_type": "code",
   "execution_count": 313,
   "id": "6e106c3f-5d1d-48cd-a07a-b83865447d76",
   "metadata": {},
   "outputs": [],
   "source": [
    "df['Height'] = df['Height'].apply(to_cm) #To have one standard unit in the column height, we convert the column to cm"
   ]
  },
  {
   "cell_type": "code",
   "execution_count": 314,
   "id": "e8e526cd-e3ed-48e4-836a-5a98c284166c",
   "metadata": {},
   "outputs": [
    {
     "data": {
      "text/html": [
       "<div>\n",
       "<style scoped>\n",
       "    .dataframe tbody tr th:only-of-type {\n",
       "        vertical-align: middle;\n",
       "    }\n",
       "\n",
       "    .dataframe tbody tr th {\n",
       "        vertical-align: top;\n",
       "    }\n",
       "\n",
       "    .dataframe thead th {\n",
       "        text-align: right;\n",
       "    }\n",
       "</style>\n",
       "<table border=\"1\" class=\"dataframe\">\n",
       "  <thead>\n",
       "    <tr style=\"text-align: right;\">\n",
       "      <th></th>\n",
       "      <th>Height</th>\n",
       "    </tr>\n",
       "  </thead>\n",
       "  <tbody>\n",
       "    <tr>\n",
       "      <th>0</th>\n",
       "      <td>182.88</td>\n",
       "    </tr>\n",
       "    <tr>\n",
       "      <th>1</th>\n",
       "      <td>177.80</td>\n",
       "    </tr>\n",
       "    <tr>\n",
       "      <th>2</th>\n",
       "      <td>175.26</td>\n",
       "    </tr>\n",
       "    <tr>\n",
       "      <th>3</th>\n",
       "      <td>180.34</td>\n",
       "    </tr>\n",
       "    <tr>\n",
       "      <th>4</th>\n",
       "      <td>170.18</td>\n",
       "    </tr>\n",
       "    <tr>\n",
       "      <th>...</th>\n",
       "      <td>...</td>\n",
       "    </tr>\n",
       "    <tr>\n",
       "      <th>17120</th>\n",
       "      <td>198.12</td>\n",
       "    </tr>\n",
       "    <tr>\n",
       "      <th>17121</th>\n",
       "      <td>177.80</td>\n",
       "    </tr>\n",
       "    <tr>\n",
       "      <th>17122</th>\n",
       "      <td>175.26</td>\n",
       "    </tr>\n",
       "    <tr>\n",
       "      <th>17123</th>\n",
       "      <td>175.26</td>\n",
       "    </tr>\n",
       "    <tr>\n",
       "      <th>17124</th>\n",
       "      <td>177.80</td>\n",
       "    </tr>\n",
       "  </tbody>\n",
       "</table>\n",
       "<p>17125 rows × 1 columns</p>\n",
       "</div>"
      ],
      "text/plain": [
       "       Height\n",
       "0      182.88\n",
       "1      177.80\n",
       "2      175.26\n",
       "3      180.34\n",
       "4      170.18\n",
       "...       ...\n",
       "17120  198.12\n",
       "17121  177.80\n",
       "17122  175.26\n",
       "17123  175.26\n",
       "17124  177.80\n",
       "\n",
       "[17125 rows x 1 columns]"
      ]
     },
     "execution_count": 314,
     "metadata": {},
     "output_type": "execute_result"
    }
   ],
   "source": [
    "df[['Height']] #new column Height"
   ]
  },
  {
   "cell_type": "code",
   "execution_count": 315,
   "id": "f6055081-0eda-442b-b577-229047595f65",
   "metadata": {},
   "outputs": [],
   "source": [
    "df['Weight'] = df['Weight'].str[:-3] # removed lbs"
   ]
  },
  {
   "cell_type": "code",
   "execution_count": 316,
   "id": "ad368390-4ecd-43ac-858b-960688218eea",
   "metadata": {},
   "outputs": [
    {
     "data": {
      "text/html": [
       "<div>\n",
       "<style scoped>\n",
       "    .dataframe tbody tr th:only-of-type {\n",
       "        vertical-align: middle;\n",
       "    }\n",
       "\n",
       "    .dataframe tbody tr th {\n",
       "        vertical-align: top;\n",
       "    }\n",
       "\n",
       "    .dataframe thead th {\n",
       "        text-align: right;\n",
       "    }\n",
       "</style>\n",
       "<table border=\"1\" class=\"dataframe\">\n",
       "  <thead>\n",
       "    <tr style=\"text-align: right;\">\n",
       "      <th></th>\n",
       "      <th>Weight</th>\n",
       "    </tr>\n",
       "  </thead>\n",
       "  <tbody>\n",
       "    <tr>\n",
       "      <th>0</th>\n",
       "      <td>181</td>\n",
       "    </tr>\n",
       "    <tr>\n",
       "      <th>1</th>\n",
       "      <td>143</td>\n",
       "    </tr>\n",
       "    <tr>\n",
       "      <th>2</th>\n",
       "      <td>161</td>\n",
       "    </tr>\n",
       "    <tr>\n",
       "      <th>3</th>\n",
       "      <td>165</td>\n",
       "    </tr>\n",
       "    <tr>\n",
       "      <th>4</th>\n",
       "      <td>150</td>\n",
       "    </tr>\n",
       "    <tr>\n",
       "      <th>...</th>\n",
       "      <td>...</td>\n",
       "    </tr>\n",
       "    <tr>\n",
       "      <th>17120</th>\n",
       "      <td>165</td>\n",
       "    </tr>\n",
       "    <tr>\n",
       "      <th>17121</th>\n",
       "      <td>170</td>\n",
       "    </tr>\n",
       "    <tr>\n",
       "      <th>17122</th>\n",
       "      <td>154</td>\n",
       "    </tr>\n",
       "    <tr>\n",
       "      <th>17123</th>\n",
       "      <td>148</td>\n",
       "    </tr>\n",
       "    <tr>\n",
       "      <th>17124</th>\n",
       "      <td>154</td>\n",
       "    </tr>\n",
       "  </tbody>\n",
       "</table>\n",
       "<p>17125 rows × 1 columns</p>\n",
       "</div>"
      ],
      "text/plain": [
       "      Weight\n",
       "0        181\n",
       "1        143\n",
       "2        161\n",
       "3        165\n",
       "4        150\n",
       "...      ...\n",
       "17120    165\n",
       "17121    170\n",
       "17122    154\n",
       "17123    148\n",
       "17124    154\n",
       "\n",
       "[17125 rows x 1 columns]"
      ]
     },
     "execution_count": 316,
     "metadata": {},
     "output_type": "execute_result"
    }
   ],
   "source": [
    "df[['Weight']] #new column Height"
   ]
  },
  {
   "cell_type": "markdown",
   "id": "fefab8b1-4d14-46db-a7e7-5a74976cbc43",
   "metadata": {},
   "source": [
    "### Date Columns"
   ]
  },
  {
   "cell_type": "code",
   "execution_count": 317,
   "id": "805064b3-ecae-4f0d-a281-ec843a778fb8",
   "metadata": {},
   "outputs": [
    {
     "data": {
      "text/html": [
       "<div>\n",
       "<style scoped>\n",
       "    .dataframe tbody tr th:only-of-type {\n",
       "        vertical-align: middle;\n",
       "    }\n",
       "\n",
       "    .dataframe tbody tr th {\n",
       "        vertical-align: top;\n",
       "    }\n",
       "\n",
       "    .dataframe thead th {\n",
       "        text-align: right;\n",
       "    }\n",
       "</style>\n",
       "<table border=\"1\" class=\"dataframe\">\n",
       "  <thead>\n",
       "    <tr style=\"text-align: right;\">\n",
       "      <th></th>\n",
       "      <th>Joined</th>\n",
       "    </tr>\n",
       "  </thead>\n",
       "  <tbody>\n",
       "    <tr>\n",
       "      <th>0</th>\n",
       "      <td>2008-07-01</td>\n",
       "    </tr>\n",
       "    <tr>\n",
       "      <th>1</th>\n",
       "      <td>2014-07-19</td>\n",
       "    </tr>\n",
       "    <tr>\n",
       "      <th>2</th>\n",
       "      <td>2016-01-07</td>\n",
       "    </tr>\n",
       "    <tr>\n",
       "      <th>3</th>\n",
       "      <td>NaN</td>\n",
       "    </tr>\n",
       "    <tr>\n",
       "      <th>4</th>\n",
       "      <td>2018-07-16</td>\n",
       "    </tr>\n",
       "    <tr>\n",
       "      <th>...</th>\n",
       "      <td>...</td>\n",
       "    </tr>\n",
       "    <tr>\n",
       "      <th>17120</th>\n",
       "      <td>2020-09-29</td>\n",
       "    </tr>\n",
       "    <tr>\n",
       "      <th>17121</th>\n",
       "      <td>2020-08-20</td>\n",
       "    </tr>\n",
       "    <tr>\n",
       "      <th>17122</th>\n",
       "      <td>2020-08-20</td>\n",
       "    </tr>\n",
       "    <tr>\n",
       "      <th>17123</th>\n",
       "      <td>2020-09-30</td>\n",
       "    </tr>\n",
       "    <tr>\n",
       "      <th>17124</th>\n",
       "      <td>2020-09-30</td>\n",
       "    </tr>\n",
       "  </tbody>\n",
       "</table>\n",
       "<p>17125 rows × 1 columns</p>\n",
       "</div>"
      ],
      "text/plain": [
       "           Joined\n",
       "0      2008-07-01\n",
       "1      2014-07-19\n",
       "2      2016-01-07\n",
       "3             NaN\n",
       "4      2018-07-16\n",
       "...           ...\n",
       "17120  2020-09-29\n",
       "17121  2020-08-20\n",
       "17122  2020-08-20\n",
       "17123  2020-09-30\n",
       "17124  2020-09-30\n",
       "\n",
       "[17125 rows x 1 columns]"
      ]
     },
     "execution_count": 317,
     "metadata": {},
     "output_type": "execute_result"
    }
   ],
   "source": [
    "df['Joined'] = pd.to_datetime(df['Joined']) ## changed the Joined date to a stronger format\n",
    "df['Joined'] = df['Joined'].dt.strftime('%Y-%m-%d')\n",
    "df[['Joined']]"
   ]
  },
  {
   "cell_type": "code",
   "execution_count": 318,
   "id": "643abd83-3a14-4e0a-a180-30d859d9263e",
   "metadata": {},
   "outputs": [
    {
     "data": {
      "text/html": [
       "<div>\n",
       "<style scoped>\n",
       "    .dataframe tbody tr th:only-of-type {\n",
       "        vertical-align: middle;\n",
       "    }\n",
       "\n",
       "    .dataframe tbody tr th {\n",
       "        vertical-align: top;\n",
       "    }\n",
       "\n",
       "    .dataframe thead th {\n",
       "        text-align: right;\n",
       "    }\n",
       "</style>\n",
       "<table border=\"1\" class=\"dataframe\">\n",
       "  <thead>\n",
       "    <tr style=\"text-align: right;\">\n",
       "      <th></th>\n",
       "      <th>Loan Date End</th>\n",
       "    </tr>\n",
       "  </thead>\n",
       "  <tbody>\n",
       "    <tr>\n",
       "      <th>0</th>\n",
       "      <td>NaN</td>\n",
       "    </tr>\n",
       "    <tr>\n",
       "      <th>1</th>\n",
       "      <td>NaN</td>\n",
       "    </tr>\n",
       "    <tr>\n",
       "      <th>2</th>\n",
       "      <td>NaN</td>\n",
       "    </tr>\n",
       "    <tr>\n",
       "      <th>3</th>\n",
       "      <td>NaN</td>\n",
       "    </tr>\n",
       "    <tr>\n",
       "      <th>4</th>\n",
       "      <td>NaN</td>\n",
       "    </tr>\n",
       "    <tr>\n",
       "      <th>...</th>\n",
       "      <td>...</td>\n",
       "    </tr>\n",
       "    <tr>\n",
       "      <th>17120</th>\n",
       "      <td>2021-06-30</td>\n",
       "    </tr>\n",
       "    <tr>\n",
       "      <th>17121</th>\n",
       "      <td>NaN</td>\n",
       "    </tr>\n",
       "    <tr>\n",
       "      <th>17122</th>\n",
       "      <td>NaN</td>\n",
       "    </tr>\n",
       "    <tr>\n",
       "      <th>17123</th>\n",
       "      <td>NaN</td>\n",
       "    </tr>\n",
       "    <tr>\n",
       "      <th>17124</th>\n",
       "      <td>NaN</td>\n",
       "    </tr>\n",
       "  </tbody>\n",
       "</table>\n",
       "<p>17125 rows × 1 columns</p>\n",
       "</div>"
      ],
      "text/plain": [
       "      Loan Date End\n",
       "0               NaN\n",
       "1               NaN\n",
       "2               NaN\n",
       "3               NaN\n",
       "4               NaN\n",
       "...             ...\n",
       "17120    2021-06-30\n",
       "17121           NaN\n",
       "17122           NaN\n",
       "17123           NaN\n",
       "17124           NaN\n",
       "\n",
       "[17125 rows x 1 columns]"
      ]
     },
     "execution_count": 318,
     "metadata": {},
     "output_type": "execute_result"
    }
   ],
   "source": [
    "df['Loan Date End'] = pd.to_datetime(df['Loan Date End']) ## changed the Joined date to a stronger format\n",
    "df['Loan Date End'] = df['Loan Date End'].dt.strftime('%Y-%m-%d')\n",
    "df[['Loan Date End']]"
   ]
  },
  {
   "cell_type": "markdown",
   "id": "c8987361-bad6-452e-b318-c653e40a9671",
   "metadata": {},
   "source": [
    "### Money columns"
   ]
  },
  {
   "cell_type": "code",
   "execution_count": 319,
   "id": "da05e198-1504-4d31-a3c5-9287cf886b27",
   "metadata": {},
   "outputs": [],
   "source": [
    "def multiply_column(df, col_name):\n",
    "    df[col_name] = df[col_name].str.replace('€', '').astype(str)\n",
    "    return df[col_name].apply(lambda x: float(x[:-1]) * 1000 if x.endswith('K') else float(x[:-1]) * 1000000 if x.endswith('M') else float(x))"
   ]
  },
  {
   "cell_type": "code",
   "execution_count": 320,
   "id": "431b5c0f-c946-4b07-b0f5-f8cec0052844",
   "metadata": {},
   "outputs": [],
   "source": [
    "df['Value'] = multiply_column(df, 'Value')"
   ]
  },
  {
   "cell_type": "code",
   "execution_count": 321,
   "id": "c22eeee4-f60a-4597-93d3-c066585394bb",
   "metadata": {},
   "outputs": [
    {
     "data": {
      "text/html": [
       "<div>\n",
       "<style scoped>\n",
       "    .dataframe tbody tr th:only-of-type {\n",
       "        vertical-align: middle;\n",
       "    }\n",
       "\n",
       "    .dataframe tbody tr th {\n",
       "        vertical-align: top;\n",
       "    }\n",
       "\n",
       "    .dataframe thead th {\n",
       "        text-align: right;\n",
       "    }\n",
       "</style>\n",
       "<table border=\"1\" class=\"dataframe\">\n",
       "  <thead>\n",
       "    <tr style=\"text-align: right;\">\n",
       "      <th></th>\n",
       "      <th>Value</th>\n",
       "    </tr>\n",
       "  </thead>\n",
       "  <tbody>\n",
       "    <tr>\n",
       "      <th>0</th>\n",
       "      <td>625000.0</td>\n",
       "    </tr>\n",
       "    <tr>\n",
       "      <th>1</th>\n",
       "      <td>600000.0</td>\n",
       "    </tr>\n",
       "    <tr>\n",
       "      <th>2</th>\n",
       "      <td>1100000.0</td>\n",
       "    </tr>\n",
       "    <tr>\n",
       "      <th>3</th>\n",
       "      <td>0.0</td>\n",
       "    </tr>\n",
       "    <tr>\n",
       "      <th>4</th>\n",
       "      <td>5500000.0</td>\n",
       "    </tr>\n",
       "    <tr>\n",
       "      <th>...</th>\n",
       "      <td>...</td>\n",
       "    </tr>\n",
       "    <tr>\n",
       "      <th>17120</th>\n",
       "      <td>550000.0</td>\n",
       "    </tr>\n",
       "    <tr>\n",
       "      <th>17121</th>\n",
       "      <td>130000.0</td>\n",
       "    </tr>\n",
       "    <tr>\n",
       "      <th>17122</th>\n",
       "      <td>130000.0</td>\n",
       "    </tr>\n",
       "    <tr>\n",
       "      <th>17123</th>\n",
       "      <td>475000.0</td>\n",
       "    </tr>\n",
       "    <tr>\n",
       "      <th>17124</th>\n",
       "      <td>325000.0</td>\n",
       "    </tr>\n",
       "  </tbody>\n",
       "</table>\n",
       "<p>17125 rows × 1 columns</p>\n",
       "</div>"
      ],
      "text/plain": [
       "           Value\n",
       "0       625000.0\n",
       "1       600000.0\n",
       "2      1100000.0\n",
       "3            0.0\n",
       "4      5500000.0\n",
       "...          ...\n",
       "17120   550000.0\n",
       "17121   130000.0\n",
       "17122   130000.0\n",
       "17123   475000.0\n",
       "17124   325000.0\n",
       "\n",
       "[17125 rows x 1 columns]"
      ]
     },
     "execution_count": 321,
     "metadata": {},
     "output_type": "execute_result"
    }
   ],
   "source": [
    "df[['Value']]"
   ]
  },
  {
   "cell_type": "code",
   "execution_count": 322,
   "id": "46a93033-1bee-4093-8e29-ed38b709a2fc",
   "metadata": {},
   "outputs": [],
   "source": [
    "df['Wage'] = multiply_column(df, 'Wage')"
   ]
  },
  {
   "cell_type": "code",
   "execution_count": 323,
   "id": "d71738e8-9836-46be-8da6-8cf72191be05",
   "metadata": {},
   "outputs": [
    {
     "data": {
      "text/html": [
       "<div>\n",
       "<style scoped>\n",
       "    .dataframe tbody tr th:only-of-type {\n",
       "        vertical-align: middle;\n",
       "    }\n",
       "\n",
       "    .dataframe tbody tr th {\n",
       "        vertical-align: top;\n",
       "    }\n",
       "\n",
       "    .dataframe thead th {\n",
       "        text-align: right;\n",
       "    }\n",
       "</style>\n",
       "<table border=\"1\" class=\"dataframe\">\n",
       "  <thead>\n",
       "    <tr style=\"text-align: right;\">\n",
       "      <th></th>\n",
       "      <th>Wage</th>\n",
       "    </tr>\n",
       "  </thead>\n",
       "  <tbody>\n",
       "    <tr>\n",
       "      <th>0</th>\n",
       "      <td>7000.0</td>\n",
       "    </tr>\n",
       "    <tr>\n",
       "      <th>1</th>\n",
       "      <td>7000.0</td>\n",
       "    </tr>\n",
       "    <tr>\n",
       "      <th>2</th>\n",
       "      <td>15000.0</td>\n",
       "    </tr>\n",
       "    <tr>\n",
       "      <th>3</th>\n",
       "      <td>0.0</td>\n",
       "    </tr>\n",
       "    <tr>\n",
       "      <th>4</th>\n",
       "      <td>12000.0</td>\n",
       "    </tr>\n",
       "    <tr>\n",
       "      <th>...</th>\n",
       "      <td>...</td>\n",
       "    </tr>\n",
       "    <tr>\n",
       "      <th>17120</th>\n",
       "      <td>2000.0</td>\n",
       "    </tr>\n",
       "    <tr>\n",
       "      <th>17121</th>\n",
       "      <td>3000.0</td>\n",
       "    </tr>\n",
       "    <tr>\n",
       "      <th>17122</th>\n",
       "      <td>2000.0</td>\n",
       "    </tr>\n",
       "    <tr>\n",
       "      <th>17123</th>\n",
       "      <td>3000.0</td>\n",
       "    </tr>\n",
       "    <tr>\n",
       "      <th>17124</th>\n",
       "      <td>2000.0</td>\n",
       "    </tr>\n",
       "  </tbody>\n",
       "</table>\n",
       "<p>17125 rows × 1 columns</p>\n",
       "</div>"
      ],
      "text/plain": [
       "          Wage\n",
       "0       7000.0\n",
       "1       7000.0\n",
       "2      15000.0\n",
       "3          0.0\n",
       "4      12000.0\n",
       "...        ...\n",
       "17120   2000.0\n",
       "17121   3000.0\n",
       "17122   2000.0\n",
       "17123   3000.0\n",
       "17124   2000.0\n",
       "\n",
       "[17125 rows x 1 columns]"
      ]
     },
     "execution_count": 323,
     "metadata": {},
     "output_type": "execute_result"
    }
   ],
   "source": [
    "df[['Wage']]"
   ]
  },
  {
   "cell_type": "code",
   "execution_count": 324,
   "id": "baa4e991-37de-4369-8ea9-81195ebfd05d",
   "metadata": {},
   "outputs": [],
   "source": [
    "df['Release Clause'] = multiply_column(df, 'Release Clause')"
   ]
  },
  {
   "cell_type": "code",
   "execution_count": 325,
   "id": "4c0ab98e-3adb-4675-be1f-e634e0fe5c70",
   "metadata": {},
   "outputs": [
    {
     "data": {
      "text/html": [
       "<div>\n",
       "<style scoped>\n",
       "    .dataframe tbody tr th:only-of-type {\n",
       "        vertical-align: middle;\n",
       "    }\n",
       "\n",
       "    .dataframe tbody tr th {\n",
       "        vertical-align: top;\n",
       "    }\n",
       "\n",
       "    .dataframe thead th {\n",
       "        text-align: right;\n",
       "    }\n",
       "</style>\n",
       "<table border=\"1\" class=\"dataframe\">\n",
       "  <thead>\n",
       "    <tr style=\"text-align: right;\">\n",
       "      <th></th>\n",
       "      <th>Release Clause</th>\n",
       "    </tr>\n",
       "  </thead>\n",
       "  <tbody>\n",
       "    <tr>\n",
       "      <th>0</th>\n",
       "      <td>0.0</td>\n",
       "    </tr>\n",
       "    <tr>\n",
       "      <th>1</th>\n",
       "      <td>1100000.0</td>\n",
       "    </tr>\n",
       "    <tr>\n",
       "      <th>2</th>\n",
       "      <td>0.0</td>\n",
       "    </tr>\n",
       "    <tr>\n",
       "      <th>3</th>\n",
       "      <td>0.0</td>\n",
       "    </tr>\n",
       "    <tr>\n",
       "      <th>4</th>\n",
       "      <td>7200000.0</td>\n",
       "    </tr>\n",
       "    <tr>\n",
       "      <th>...</th>\n",
       "      <td>...</td>\n",
       "    </tr>\n",
       "    <tr>\n",
       "      <th>17120</th>\n",
       "      <td>0.0</td>\n",
       "    </tr>\n",
       "    <tr>\n",
       "      <th>17121</th>\n",
       "      <td>273000.0</td>\n",
       "    </tr>\n",
       "    <tr>\n",
       "      <th>17122</th>\n",
       "      <td>273000.0</td>\n",
       "    </tr>\n",
       "    <tr>\n",
       "      <th>17123</th>\n",
       "      <td>784000.0</td>\n",
       "    </tr>\n",
       "    <tr>\n",
       "      <th>17124</th>\n",
       "      <td>788000.0</td>\n",
       "    </tr>\n",
       "  </tbody>\n",
       "</table>\n",
       "<p>17125 rows × 1 columns</p>\n",
       "</div>"
      ],
      "text/plain": [
       "       Release Clause\n",
       "0                 0.0\n",
       "1           1100000.0\n",
       "2                 0.0\n",
       "3                 0.0\n",
       "4           7200000.0\n",
       "...               ...\n",
       "17120             0.0\n",
       "17121        273000.0\n",
       "17122        273000.0\n",
       "17123        784000.0\n",
       "17124        788000.0\n",
       "\n",
       "[17125 rows x 1 columns]"
      ]
     },
     "execution_count": 325,
     "metadata": {},
     "output_type": "execute_result"
    }
   ],
   "source": [
    "df[['Release Clause']]"
   ]
  },
  {
   "cell_type": "markdown",
   "id": "47c8fae3-11de-4a00-a3d5-8d14316e1527",
   "metadata": {},
   "source": [
    "### Remove roge K in Hits"
   ]
  },
  {
   "cell_type": "code",
   "execution_count": null,
   "id": "a4aa96a9-fc2a-4a4f-8b11-6e890b2e9f3b",
   "metadata": {},
   "outputs": [],
   "source": [
    "df['Hits'] = multiply_column(df, 'Hits')\n",
    "df['Hits']"
   ]
  },
  {
   "cell_type": "markdown",
   "id": "8f5b9992-52a9-4004-8d16-2c41d3f52b06",
   "metadata": {},
   "source": [
    "### Separation of contract column"
   ]
  },
  {
   "cell_type": "code",
   "execution_count": 327,
   "id": "a7766a55-79ca-4e77-8243-5d8b8a464570",
   "metadata": {},
   "outputs": [],
   "source": [
    "df['available'] = df['Contract'].apply(lambda x: 1 if 'free' in x.lower() else 0)\n",
    "df['start_year'] = df['Contract'].str.split(' ~ ').str[0].str.extract('(\\d+)', expand=False).astype(float)\n",
    "df['end_year'] = df['Contract'].str.split(' ~ ').str[1].str.extract('(\\d+)', expand=False).astype(float)\n",
    "df.loc[df['available'] == 1, ['start_year', 'end_year']] = None"
   ]
  },
  {
   "cell_type": "code",
   "execution_count": 328,
   "id": "52401844-c313-4adb-acfc-f1d3b3c8ce4b",
   "metadata": {},
   "outputs": [
    {
     "data": {
      "text/html": [
       "<div>\n",
       "<style scoped>\n",
       "    .dataframe tbody tr th:only-of-type {\n",
       "        vertical-align: middle;\n",
       "    }\n",
       "\n",
       "    .dataframe tbody tr th {\n",
       "        vertical-align: top;\n",
       "    }\n",
       "\n",
       "    .dataframe thead th {\n",
       "        text-align: right;\n",
       "    }\n",
       "</style>\n",
       "<table border=\"1\" class=\"dataframe\">\n",
       "  <thead>\n",
       "    <tr style=\"text-align: right;\">\n",
       "      <th></th>\n",
       "      <th>available</th>\n",
       "    </tr>\n",
       "  </thead>\n",
       "  <tbody>\n",
       "    <tr>\n",
       "      <th>0</th>\n",
       "      <td>0</td>\n",
       "    </tr>\n",
       "    <tr>\n",
       "      <th>1</th>\n",
       "      <td>0</td>\n",
       "    </tr>\n",
       "    <tr>\n",
       "      <th>2</th>\n",
       "      <td>0</td>\n",
       "    </tr>\n",
       "    <tr>\n",
       "      <th>3</th>\n",
       "      <td>0</td>\n",
       "    </tr>\n",
       "    <tr>\n",
       "      <th>4</th>\n",
       "      <td>0</td>\n",
       "    </tr>\n",
       "    <tr>\n",
       "      <th>...</th>\n",
       "      <td>...</td>\n",
       "    </tr>\n",
       "    <tr>\n",
       "      <th>17120</th>\n",
       "      <td>0</td>\n",
       "    </tr>\n",
       "    <tr>\n",
       "      <th>17121</th>\n",
       "      <td>0</td>\n",
       "    </tr>\n",
       "    <tr>\n",
       "      <th>17122</th>\n",
       "      <td>0</td>\n",
       "    </tr>\n",
       "    <tr>\n",
       "      <th>17123</th>\n",
       "      <td>0</td>\n",
       "    </tr>\n",
       "    <tr>\n",
       "      <th>17124</th>\n",
       "      <td>0</td>\n",
       "    </tr>\n",
       "  </tbody>\n",
       "</table>\n",
       "<p>17125 rows × 1 columns</p>\n",
       "</div>"
      ],
      "text/plain": [
       "       available\n",
       "0              0\n",
       "1              0\n",
       "2              0\n",
       "3              0\n",
       "4              0\n",
       "...          ...\n",
       "17120          0\n",
       "17121          0\n",
       "17122          0\n",
       "17123          0\n",
       "17124          0\n",
       "\n",
       "[17125 rows x 1 columns]"
      ]
     },
     "execution_count": 328,
     "metadata": {},
     "output_type": "execute_result"
    }
   ],
   "source": [
    "df[['available']]"
   ]
  },
  {
   "cell_type": "code",
   "execution_count": 329,
   "id": "facc33bb-62d0-4001-9e3d-93c72fbee92a",
   "metadata": {},
   "outputs": [
    {
     "data": {
      "text/html": [
       "<div>\n",
       "<style scoped>\n",
       "    .dataframe tbody tr th:only-of-type {\n",
       "        vertical-align: middle;\n",
       "    }\n",
       "\n",
       "    .dataframe tbody tr th {\n",
       "        vertical-align: top;\n",
       "    }\n",
       "\n",
       "    .dataframe thead th {\n",
       "        text-align: right;\n",
       "    }\n",
       "</style>\n",
       "<table border=\"1\" class=\"dataframe\">\n",
       "  <thead>\n",
       "    <tr style=\"text-align: right;\">\n",
       "      <th></th>\n",
       "      <th>start_year</th>\n",
       "    </tr>\n",
       "  </thead>\n",
       "  <tbody>\n",
       "    <tr>\n",
       "      <th>0</th>\n",
       "      <td>2008.0</td>\n",
       "    </tr>\n",
       "    <tr>\n",
       "      <th>1</th>\n",
       "      <td>2014.0</td>\n",
       "    </tr>\n",
       "    <tr>\n",
       "      <th>2</th>\n",
       "      <td>2016.0</td>\n",
       "    </tr>\n",
       "    <tr>\n",
       "      <th>3</th>\n",
       "      <td>2009.0</td>\n",
       "    </tr>\n",
       "    <tr>\n",
       "      <th>4</th>\n",
       "      <td>2018.0</td>\n",
       "    </tr>\n",
       "    <tr>\n",
       "      <th>...</th>\n",
       "      <td>...</td>\n",
       "    </tr>\n",
       "    <tr>\n",
       "      <th>17120</th>\n",
       "      <td>30.0</td>\n",
       "    </tr>\n",
       "    <tr>\n",
       "      <th>17121</th>\n",
       "      <td>2020.0</td>\n",
       "    </tr>\n",
       "    <tr>\n",
       "      <th>17122</th>\n",
       "      <td>2020.0</td>\n",
       "    </tr>\n",
       "    <tr>\n",
       "      <th>17123</th>\n",
       "      <td>2020.0</td>\n",
       "    </tr>\n",
       "    <tr>\n",
       "      <th>17124</th>\n",
       "      <td>2020.0</td>\n",
       "    </tr>\n",
       "  </tbody>\n",
       "</table>\n",
       "<p>17125 rows × 1 columns</p>\n",
       "</div>"
      ],
      "text/plain": [
       "       start_year\n",
       "0          2008.0\n",
       "1          2014.0\n",
       "2          2016.0\n",
       "3          2009.0\n",
       "4          2018.0\n",
       "...           ...\n",
       "17120        30.0\n",
       "17121      2020.0\n",
       "17122      2020.0\n",
       "17123      2020.0\n",
       "17124      2020.0\n",
       "\n",
       "[17125 rows x 1 columns]"
      ]
     },
     "execution_count": 329,
     "metadata": {},
     "output_type": "execute_result"
    }
   ],
   "source": [
    "df[['start_year']]"
   ]
  },
  {
   "cell_type": "code",
   "execution_count": 330,
   "id": "59234f83-be14-4514-8f6f-260e02104977",
   "metadata": {},
   "outputs": [
    {
     "data": {
      "text/html": [
       "<div>\n",
       "<style scoped>\n",
       "    .dataframe tbody tr th:only-of-type {\n",
       "        vertical-align: middle;\n",
       "    }\n",
       "\n",
       "    .dataframe tbody tr th {\n",
       "        vertical-align: top;\n",
       "    }\n",
       "\n",
       "    .dataframe thead th {\n",
       "        text-align: right;\n",
       "    }\n",
       "</style>\n",
       "<table border=\"1\" class=\"dataframe\">\n",
       "  <thead>\n",
       "    <tr style=\"text-align: right;\">\n",
       "      <th></th>\n",
       "      <th>end_year</th>\n",
       "    </tr>\n",
       "  </thead>\n",
       "  <tbody>\n",
       "    <tr>\n",
       "      <th>0</th>\n",
       "      <td>2016.0</td>\n",
       "    </tr>\n",
       "    <tr>\n",
       "      <th>1</th>\n",
       "      <td>2019.0</td>\n",
       "    </tr>\n",
       "    <tr>\n",
       "      <th>2</th>\n",
       "      <td>2020.0</td>\n",
       "    </tr>\n",
       "    <tr>\n",
       "      <th>3</th>\n",
       "      <td>NaN</td>\n",
       "    </tr>\n",
       "    <tr>\n",
       "      <th>4</th>\n",
       "      <td>2021.0</td>\n",
       "    </tr>\n",
       "    <tr>\n",
       "      <th>...</th>\n",
       "      <td>...</td>\n",
       "    </tr>\n",
       "    <tr>\n",
       "      <th>17120</th>\n",
       "      <td>NaN</td>\n",
       "    </tr>\n",
       "    <tr>\n",
       "      <th>17121</th>\n",
       "      <td>2021.0</td>\n",
       "    </tr>\n",
       "    <tr>\n",
       "      <th>17122</th>\n",
       "      <td>2022.0</td>\n",
       "    </tr>\n",
       "    <tr>\n",
       "      <th>17123</th>\n",
       "      <td>2023.0</td>\n",
       "    </tr>\n",
       "    <tr>\n",
       "      <th>17124</th>\n",
       "      <td>2024.0</td>\n",
       "    </tr>\n",
       "  </tbody>\n",
       "</table>\n",
       "<p>17125 rows × 1 columns</p>\n",
       "</div>"
      ],
      "text/plain": [
       "       end_year\n",
       "0        2016.0\n",
       "1        2019.0\n",
       "2        2020.0\n",
       "3           NaN\n",
       "4        2021.0\n",
       "...         ...\n",
       "17120       NaN\n",
       "17121    2021.0\n",
       "17122    2022.0\n",
       "17123    2023.0\n",
       "17124    2024.0\n",
       "\n",
       "[17125 rows x 1 columns]"
      ]
     },
     "execution_count": 330,
     "metadata": {},
     "output_type": "execute_result"
    }
   ],
   "source": [
    "df[['end_year']]"
   ]
  },
  {
   "cell_type": "code",
   "execution_count": 331,
   "id": "38aec032-3d7c-4e27-8a42-8a255cb80c92",
   "metadata": {},
   "outputs": [
    {
     "data": {
      "text/plain": [
       "339"
      ]
     },
     "execution_count": 331,
     "metadata": {},
     "output_type": "execute_result"
    }
   ],
   "source": [
    "df['start_year'].isnull().sum()"
   ]
  },
  {
   "cell_type": "code",
   "execution_count": 332,
   "id": "302075e1-16a2-4ec4-8acc-7b5821af0f63",
   "metadata": {},
   "outputs": [
    {
     "data": {
      "text/plain": [
       "1300"
      ]
     },
     "execution_count": 332,
     "metadata": {},
     "output_type": "execute_result"
    }
   ],
   "source": [
    "df['end_year'].isnull().sum()"
   ]
  },
  {
   "cell_type": "code",
   "execution_count": 333,
   "id": "16def794-5627-462e-b298-72972ca5a888",
   "metadata": {},
   "outputs": [
    {
     "data": {
      "text/plain": [
       "0"
      ]
     },
     "execution_count": 333,
     "metadata": {},
     "output_type": "execute_result"
    }
   ],
   "source": [
    "df['available'].isnull().sum()"
   ]
  },
  {
   "cell_type": "code",
   "execution_count": 334,
   "id": "c3990689-37dc-4959-84d0-2536aa184652",
   "metadata": {},
   "outputs": [
    {
     "data": {
      "text/plain": [
       "339"
      ]
     },
     "execution_count": 334,
     "metadata": {},
     "output_type": "execute_result"
    }
   ],
   "source": [
    "df['Contract'].str.lower().str.contains('free').sum()"
   ]
  },
  {
   "cell_type": "code",
   "execution_count": 335,
   "id": "479492da-5932-496e-8801-6e47157e354a",
   "metadata": {},
   "outputs": [
    {
     "data": {
      "text/plain": [
       "339"
      ]
     },
     "execution_count": 335,
     "metadata": {},
     "output_type": "execute_result"
    }
   ],
   "source": [
    "df['available'].sum()"
   ]
  },
  {
   "cell_type": "markdown",
   "id": "7d60fc27-9f8f-42f4-bcec-80aa6817dd9e",
   "metadata": {},
   "source": [
    "#### Separation of position column"
   ]
  },
  {
   "cell_type": "code",
   "execution_count": 336,
   "id": "0bff6ea7-fb1c-467e-a790-a32a17da221c",
   "metadata": {},
   "outputs": [],
   "source": [
    "# Split the Position column by whitespace\n",
    "position_split = df['Position'].str.split(expand=True)\n",
    "\n",
    "# Rename the columns\n",
    "position_split.columns = [f\"position_{i+1}\" for i in range(position_split.shape[1])]\n",
    "\n",
    "# Concatenate the split columns with the original dataframe\n",
    "df = pd.concat([df, position_split], axis=1)"
   ]
  },
  {
   "cell_type": "markdown",
   "id": "405b17ae-9af7-4800-9de4-6d946c56b25b",
   "metadata": {},
   "source": [
    "### Remove stars"
   ]
  },
  {
   "cell_type": "code",
   "execution_count": 337,
   "id": "fcd78b93-26ab-4f02-9b94-d89d54f0c700",
   "metadata": {},
   "outputs": [],
   "source": [
    "df['W/F'] = df['W/F'].str.replace('★', '')"
   ]
  },
  {
   "cell_type": "code",
   "execution_count": 338,
   "id": "bd62eeb5-1f1c-45b7-b550-59ca46bf7a63",
   "metadata": {},
   "outputs": [
    {
     "data": {
      "text/html": [
       "<div>\n",
       "<style scoped>\n",
       "    .dataframe tbody tr th:only-of-type {\n",
       "        vertical-align: middle;\n",
       "    }\n",
       "\n",
       "    .dataframe tbody tr th {\n",
       "        vertical-align: top;\n",
       "    }\n",
       "\n",
       "    .dataframe thead th {\n",
       "        text-align: right;\n",
       "    }\n",
       "</style>\n",
       "<table border=\"1\" class=\"dataframe\">\n",
       "  <thead>\n",
       "    <tr style=\"text-align: right;\">\n",
       "      <th></th>\n",
       "      <th>W/F</th>\n",
       "    </tr>\n",
       "  </thead>\n",
       "  <tbody>\n",
       "    <tr>\n",
       "      <th>0</th>\n",
       "      <td>3</td>\n",
       "    </tr>\n",
       "    <tr>\n",
       "      <th>1</th>\n",
       "      <td>4</td>\n",
       "    </tr>\n",
       "    <tr>\n",
       "      <th>2</th>\n",
       "      <td>4</td>\n",
       "    </tr>\n",
       "    <tr>\n",
       "      <th>3</th>\n",
       "      <td>3</td>\n",
       "    </tr>\n",
       "    <tr>\n",
       "      <th>4</th>\n",
       "      <td>4</td>\n",
       "    </tr>\n",
       "    <tr>\n",
       "      <th>...</th>\n",
       "      <td>...</td>\n",
       "    </tr>\n",
       "    <tr>\n",
       "      <th>17120</th>\n",
       "      <td>2</td>\n",
       "    </tr>\n",
       "    <tr>\n",
       "      <th>17121</th>\n",
       "      <td>3</td>\n",
       "    </tr>\n",
       "    <tr>\n",
       "      <th>17122</th>\n",
       "      <td>3</td>\n",
       "    </tr>\n",
       "    <tr>\n",
       "      <th>17123</th>\n",
       "      <td>4</td>\n",
       "    </tr>\n",
       "    <tr>\n",
       "      <th>17124</th>\n",
       "      <td>3</td>\n",
       "    </tr>\n",
       "  </tbody>\n",
       "</table>\n",
       "<p>17125 rows × 1 columns</p>\n",
       "</div>"
      ],
      "text/plain": [
       "      W/F\n",
       "0      3 \n",
       "1      4 \n",
       "2      4 \n",
       "3      3 \n",
       "4      4 \n",
       "...    ..\n",
       "17120  2 \n",
       "17121  3 \n",
       "17122  3 \n",
       "17123  4 \n",
       "17124  3 \n",
       "\n",
       "[17125 rows x 1 columns]"
      ]
     },
     "execution_count": 338,
     "metadata": {},
     "output_type": "execute_result"
    }
   ],
   "source": [
    "df[['W/F']]"
   ]
  },
  {
   "cell_type": "code",
   "execution_count": 339,
   "id": "3a02abbf-c089-4b4f-b5c4-96a31d6cae63",
   "metadata": {},
   "outputs": [],
   "source": [
    "df['SM'] = df['SM'].str.replace('★', '')"
   ]
  },
  {
   "cell_type": "code",
   "execution_count": 340,
   "id": "580d327f-adc2-428c-b40d-7b729d098c51",
   "metadata": {},
   "outputs": [
    {
     "data": {
      "text/html": [
       "<div>\n",
       "<style scoped>\n",
       "    .dataframe tbody tr th:only-of-type {\n",
       "        vertical-align: middle;\n",
       "    }\n",
       "\n",
       "    .dataframe tbody tr th {\n",
       "        vertical-align: top;\n",
       "    }\n",
       "\n",
       "    .dataframe thead th {\n",
       "        text-align: right;\n",
       "    }\n",
       "</style>\n",
       "<table border=\"1\" class=\"dataframe\">\n",
       "  <thead>\n",
       "    <tr style=\"text-align: right;\">\n",
       "      <th></th>\n",
       "      <th>SM</th>\n",
       "    </tr>\n",
       "  </thead>\n",
       "  <tbody>\n",
       "    <tr>\n",
       "      <th>0</th>\n",
       "      <td>2</td>\n",
       "    </tr>\n",
       "    <tr>\n",
       "      <th>1</th>\n",
       "      <td>3</td>\n",
       "    </tr>\n",
       "    <tr>\n",
       "      <th>2</th>\n",
       "      <td>4</td>\n",
       "    </tr>\n",
       "    <tr>\n",
       "      <th>3</th>\n",
       "      <td>1</td>\n",
       "    </tr>\n",
       "    <tr>\n",
       "      <th>4</th>\n",
       "      <td>4</td>\n",
       "    </tr>\n",
       "    <tr>\n",
       "      <th>...</th>\n",
       "      <td>...</td>\n",
       "    </tr>\n",
       "    <tr>\n",
       "      <th>17120</th>\n",
       "      <td>2</td>\n",
       "    </tr>\n",
       "    <tr>\n",
       "      <th>17121</th>\n",
       "      <td>2</td>\n",
       "    </tr>\n",
       "    <tr>\n",
       "      <th>17122</th>\n",
       "      <td>2</td>\n",
       "    </tr>\n",
       "    <tr>\n",
       "      <th>17123</th>\n",
       "      <td>2</td>\n",
       "    </tr>\n",
       "    <tr>\n",
       "      <th>17124</th>\n",
       "      <td>3</td>\n",
       "    </tr>\n",
       "  </tbody>\n",
       "</table>\n",
       "<p>17125 rows × 1 columns</p>\n",
       "</div>"
      ],
      "text/plain": [
       "      SM\n",
       "0      2\n",
       "1      3\n",
       "2      4\n",
       "3      1\n",
       "4      4\n",
       "...   ..\n",
       "17120  2\n",
       "17121  2\n",
       "17122  2\n",
       "17123  2\n",
       "17124  3\n",
       "\n",
       "[17125 rows x 1 columns]"
      ]
     },
     "execution_count": 340,
     "metadata": {},
     "output_type": "execute_result"
    }
   ],
   "source": [
    "df[['SM']]"
   ]
  },
  {
   "cell_type": "code",
   "execution_count": 341,
   "id": "8fa4f340-a39d-4ff1-a2ab-519e60446b00",
   "metadata": {},
   "outputs": [],
   "source": [
    "df['IR'] = df['IR'].str.replace('★', '')"
   ]
  },
  {
   "cell_type": "code",
   "execution_count": 342,
   "id": "53f9d1cf-a77d-42ab-b09f-15141ee3f0c1",
   "metadata": {},
   "outputs": [
    {
     "data": {
      "text/html": [
       "<div>\n",
       "<style scoped>\n",
       "    .dataframe tbody tr th:only-of-type {\n",
       "        vertical-align: middle;\n",
       "    }\n",
       "\n",
       "    .dataframe tbody tr th {\n",
       "        vertical-align: top;\n",
       "    }\n",
       "\n",
       "    .dataframe thead th {\n",
       "        text-align: right;\n",
       "    }\n",
       "</style>\n",
       "<table border=\"1\" class=\"dataframe\">\n",
       "  <thead>\n",
       "    <tr style=\"text-align: right;\">\n",
       "      <th></th>\n",
       "      <th>IR</th>\n",
       "    </tr>\n",
       "  </thead>\n",
       "  <tbody>\n",
       "    <tr>\n",
       "      <th>0</th>\n",
       "      <td>2</td>\n",
       "    </tr>\n",
       "    <tr>\n",
       "      <th>1</th>\n",
       "      <td>1</td>\n",
       "    </tr>\n",
       "    <tr>\n",
       "      <th>2</th>\n",
       "      <td>2</td>\n",
       "    </tr>\n",
       "    <tr>\n",
       "      <th>3</th>\n",
       "      <td>1</td>\n",
       "    </tr>\n",
       "    <tr>\n",
       "      <th>4</th>\n",
       "      <td>4</td>\n",
       "    </tr>\n",
       "    <tr>\n",
       "      <th>...</th>\n",
       "      <td>...</td>\n",
       "    </tr>\n",
       "    <tr>\n",
       "      <th>17120</th>\n",
       "      <td>1</td>\n",
       "    </tr>\n",
       "    <tr>\n",
       "      <th>17121</th>\n",
       "      <td>1</td>\n",
       "    </tr>\n",
       "    <tr>\n",
       "      <th>17122</th>\n",
       "      <td>1</td>\n",
       "    </tr>\n",
       "    <tr>\n",
       "      <th>17123</th>\n",
       "      <td>1</td>\n",
       "    </tr>\n",
       "    <tr>\n",
       "      <th>17124</th>\n",
       "      <td>1</td>\n",
       "    </tr>\n",
       "  </tbody>\n",
       "</table>\n",
       "<p>17125 rows × 1 columns</p>\n",
       "</div>"
      ],
      "text/plain": [
       "       IR\n",
       "0      2 \n",
       "1      1 \n",
       "2      2 \n",
       "3      1 \n",
       "4      4 \n",
       "...    ..\n",
       "17120  1 \n",
       "17121  1 \n",
       "17122  1 \n",
       "17123  1 \n",
       "17124  1 \n",
       "\n",
       "[17125 rows x 1 columns]"
      ]
     },
     "execution_count": 342,
     "metadata": {},
     "output_type": "execute_result"
    }
   ],
   "source": [
    "df[['IR']]"
   ]
  },
  {
   "cell_type": "markdown",
   "id": "24bdb230-b4ad-457b-9f22-07567c8b0e55",
   "metadata": {},
   "source": [
    "### Slpit attribute columns into base and bonus columns"
   ]
  },
  {
   "cell_type": "code",
   "execution_count": 343,
   "id": "37510789-e976-4aa2-889e-8732b13cf2fa",
   "metadata": {},
   "outputs": [],
   "source": [
    "def split_columns(df, col_name):\n",
    "    if col_name+'_base' in df.columns and col_name+'_bonus' in df.columns:\n",
    "        print(f'Columns {col_name}_base and {col_name}_bonus already exist.')\n",
    "        return df\n",
    "    new_cols = df[col_name].str.split('+', expand=True)\n",
    "    new_cols = new_cols.rename(columns={0: col_name+'_base', 1: col_name+'_bonus'})\n",
    "    df = pd.concat([df, new_cols], axis=1)\n",
    "    return df"
   ]
  },
  {
   "cell_type": "code",
   "execution_count": 344,
   "id": "8e8b3da5-03a0-4dd8-8633-ee1508e64181",
   "metadata": {},
   "outputs": [],
   "source": [
    "df = split_columns(df, 'LS')\n",
    "df = split_columns(df, 'ST')\n",
    "df = split_columns(df, 'RS')\n",
    "df = split_columns(df, 'LW')\n",
    "df = split_columns(df, 'LF')\n",
    "df = split_columns(df, 'CF')\n",
    "df = split_columns(df, 'RF')\n",
    "df = split_columns(df, 'RW')\n",
    "df = split_columns(df, 'LAM')\n",
    "df = split_columns(df, 'CAM')\n",
    "df = split_columns(df, 'RAM')\n",
    "df = split_columns(df, 'LM')\n",
    "df = split_columns(df, 'LCM')\n",
    "df = split_columns(df, 'CM')\n",
    "df = split_columns(df, 'RCM')\n",
    "df = split_columns(df, 'RM')\n",
    "df = split_columns(df, 'LWB')\n",
    "df = split_columns(df, 'LDM')\n",
    "df = split_columns(df, 'CDM')\n",
    "df = split_columns(df, 'RDM')\n",
    "df = split_columns(df, 'RWB')\n",
    "df = split_columns(df, 'LB')\n",
    "df = split_columns(df, 'LCB')\n",
    "df = split_columns(df, 'CB')\n",
    "df = split_columns(df, 'RCB')\n",
    "df = split_columns(df, 'RB')\n",
    "df = split_columns(df, 'GK')"
   ]
  },
  {
   "cell_type": "code",
   "execution_count": 345,
   "id": "2069eefc-348b-42ec-9026-98ef6311545b",
   "metadata": {},
   "outputs": [],
   "source": [
    "df = df.drop(['LS', 'ST', 'RS', 'LW', 'LF', 'CF', 'RF', 'RW', 'LAM', 'CAM', 'RAM', 'LM', 'LCM', 'CM', 'RCM', 'RM', 'LWB', 'LDM', 'CDM', 'RDM', 'RWB', 'LB', 'LCB', 'CB', 'RCB', 'RB', 'GK', 'Contract'], axis=1)\n"
   ]
  },
  {
   "cell_type": "code",
   "execution_count": 415,
   "id": "8a0c79a1-4394-42a7-9d89-22de45957baf",
   "metadata": {},
   "outputs": [],
   "source": [
    "df.to_csv('fifa_male_excel_clean_v1.csv', index=False)\n"
   ]
  },
  {
   "cell_type": "markdown",
   "id": "1496fe6e-f44a-44ff-bdc4-d05d24a06bde",
   "metadata": {},
   "source": [
    "## Load the data from the first round of cleaning"
   ]
  },
  {
   "cell_type": "code",
   "execution_count": 423,
   "id": "6d6a1902-21f3-4b36-83f3-110402b5f492",
   "metadata": {},
   "outputs": [],
   "source": [
    "df=pd.read_csv('fifa_male_excel_clean_v1.csv', low_memory=False)"
   ]
  },
  {
   "cell_type": "code",
   "execution_count": 424,
   "id": "be71d9e6-9bf0-416e-8df7-2a0266e753bc",
   "metadata": {},
   "outputs": [
    {
     "name": "stdout",
     "output_type": "stream",
     "text": [
      "ID                      0\n",
      "Name                    0\n",
      "Age                     0\n",
      "OVA                     0\n",
      "Nationality             0\n",
      "Club                   18\n",
      "BOV                     0\n",
      "BP                      0\n",
      "Position                0\n",
      "POT                     0\n",
      "Team & Contract         0\n",
      "Height                  0\n",
      "Weight                  0\n",
      "foot                    0\n",
      "Growth                  0\n",
      "Joined                  0\n",
      "Value                   0\n",
      "Wage                    0\n",
      "Release Clause          0\n",
      "Attacking               0\n",
      "Crossing                0\n",
      "Finishing               0\n",
      "Heading Accuracy        0\n",
      "Short Passing           0\n",
      "Volleys                 0\n",
      "Skill                   0\n",
      "Dribbling               0\n",
      "Curve                   0\n",
      "FK Accuracy             0\n",
      "Long Passing            0\n",
      "Ball Control            0\n",
      "Movement                0\n",
      "Acceleration            0\n",
      "Sprint Speed            0\n",
      "Agility                 0\n",
      "Reactions               0\n",
      "Balance                 0\n",
      "Power                   0\n",
      "Shot Power              0\n",
      "Jumping                 0\n",
      "Stamina                 0\n",
      "Strength                0\n",
      "Long Shots              0\n",
      "Mentality               0\n",
      "Aggression              0\n",
      "Interceptions           0\n",
      "Positioning             0\n",
      "Vision                  0\n",
      "Penalties               0\n",
      "Composure             365\n",
      "Defending               0\n",
      "Marking                 0\n",
      "Standing Tackle         0\n",
      "Sliding Tackle          0\n",
      "Goalkeeping             0\n",
      "GK Diving               0\n",
      "GK Handling             0\n",
      "GK Kicking              0\n",
      "GK Positioning          0\n",
      "GK Reflexes             0\n",
      "Total Stats             0\n",
      "Base Stats              0\n",
      "W/F                     0\n",
      "SM                      0\n",
      "A/W                    31\n",
      "D/W                    31\n",
      "IR                      0\n",
      "PAC                     0\n",
      "SHO                     0\n",
      "PAS                     0\n",
      "DRI                     0\n",
      "DEF                     0\n",
      "PHY                     0\n",
      "Hits                    0\n",
      "Gender                  0\n",
      "available               0\n",
      "start_year            332\n",
      "end_year             1242\n",
      "position_1              0\n",
      "position_2           8736\n",
      "position_3          14683\n",
      "position_4          17043\n",
      "LS_base                 0\n",
      "LS_bonus                0\n",
      "ST_base                 0\n",
      "ST_bonus                0\n",
      "RS_base                 0\n",
      "RS_bonus                0\n",
      "LW_base                 0\n",
      "LW_bonus                0\n",
      "LF_base                 0\n",
      "LF_bonus                0\n",
      "CF_base                 0\n",
      "CF_bonus                0\n",
      "RF_base                 0\n",
      "RF_bonus                0\n",
      "RW_base                 0\n",
      "RW_bonus                0\n",
      "LAM_base                0\n",
      "LAM_bonus               0\n",
      "CAM_base                0\n",
      "CAM_bonus               0\n",
      "RAM_base                0\n",
      "RAM_bonus               0\n",
      "LM_base                 0\n",
      "LM_bonus                0\n",
      "LCM_base                0\n",
      "LCM_bonus               0\n",
      "CM_base                 0\n",
      "CM_bonus                0\n",
      "RCM_base                0\n",
      "RCM_bonus               0\n",
      "RM_base                 0\n",
      "RM_bonus                0\n",
      "LWB_base                0\n",
      "LWB_bonus               0\n",
      "LDM_base                0\n",
      "LDM_bonus               0\n",
      "CDM_base                0\n",
      "CDM_bonus               0\n",
      "RDM_base                0\n",
      "RDM_bonus               0\n",
      "RWB_base                0\n",
      "RWB_bonus               0\n",
      "LB_base                 0\n",
      "LB_bonus                0\n",
      "LCB_base                0\n",
      "LCB_bonus               0\n",
      "CB_base                 0\n",
      "CB_bonus                0\n",
      "RCB_base                0\n",
      "RCB_bonus               0\n",
      "RB_base                 0\n",
      "RB_bonus                0\n",
      "GK_base                 0\n",
      "GK_bonus                0\n",
      "Position_code           0\n",
      "BP_code                 0\n",
      "foot_code               0\n",
      "A/W_code                0\n",
      "D/W_code                0\n",
      "dtype: int64\n"
     ]
    }
   ],
   "source": [
    "pd.set_option('display.max_rows', 150)\n",
    "pd.set_option('display.max_columns', None)\n",
    "null_counts = df.isnull().sum()\n",
    "print(null_counts)"
   ]
  },
  {
   "cell_type": "code",
   "execution_count": 425,
   "id": "d64c7e30-6962-433e-9be6-41662d95eaf6",
   "metadata": {},
   "outputs": [],
   "source": [
    "subset = df.loc[:, ['Club', 'Position', 'Joined', 'Volleys', 'Curve', 'Agility', 'Balance', 'Jumping', 'Interceptions', 'Positioning', 'Vision', 'Composure', 'Sliding Tackle', 'A/W', 'D/W']]\n",
    "subset_null = subset.isnull()"
   ]
  },
  {
   "cell_type": "markdown",
   "id": "27732505-45d0-41d2-a93e-1a0ec8a4e579",
   "metadata": {},
   "source": [
    "#### Testing if the 58 Nulls correspond to the same rows:"
   ]
  },
  {
   "cell_type": "code",
   "execution_count": 426,
   "id": "cabf777e-960c-4bac-a27b-cde09d92091c",
   "metadata": {},
   "outputs": [
    {
     "name": "stdout",
     "output_type": "stream",
     "text": [
      "0\n"
     ]
    }
   ],
   "source": [
    "joined_null = df['Joined'].isnull()\n",
    "volleys_null = df['Volleys'].isnull()\n",
    "curve_null = df['Curve'].isnull()\n",
    "agility_null = df['Agility'].isnull()\n",
    "balance_null = df['Balance'].isnull()\n",
    "jumping_null = df['Jumping'].isnull()\n",
    "vision_null = df['Vision'].isnull()\n",
    "sliding_tackle_null = df['Sliding Tackle'].isnull()\n",
    "\n",
    "# combine into a single array\n",
    "combined_null = np.array([joined_null, volleys_null, curve_null, agility_null, balance_null, jumping_null, vision_null, sliding_tackle_null])\n",
    "\n",
    "#Check if the 58 rows all have nulls in the same places \n",
    "print(np.all(combined_null, axis=0).sum())\n"
   ]
  },
  {
   "cell_type": "markdown",
   "id": "84c329e0-323a-478b-b1f0-f8698acda7c2",
   "metadata": {},
   "source": [
    "#### Remove the 58 rows that contain simultaneous nulls in the columns listed above"
   ]
  },
  {
   "cell_type": "code",
   "execution_count": 427,
   "id": "163d89d7-07fe-46a3-bff7-a0e1db0bddd8",
   "metadata": {},
   "outputs": [],
   "source": [
    "df.dropna(subset=['Joined', 'Volleys', 'Curve', 'Agility', 'Balance', 'Jumping', 'Vision', 'Sliding Tackle'], inplace=True)"
   ]
  },
  {
   "cell_type": "code",
   "execution_count": 428,
   "id": "c7657f66-f9e5-48bf-abae-782aaea597d8",
   "metadata": {},
   "outputs": [
    {
     "name": "stdout",
     "output_type": "stream",
     "text": [
      "Composure     0.021386\n",
      "start_year    0.019453\n",
      "end_year      0.072772\n",
      "position_2    0.511865\n",
      "position_3    0.860315\n",
      "position_4    0.998594\n",
      "dtype: float64\n"
     ]
    }
   ],
   "source": [
    "pd.set_option('display.max_rows', 150)\n",
    "pd.set_option('display.max_columns', None)\n",
    "null_counts = df.isnull().sum()\n",
    "null_percentages = null_counts/df.isnull().count()\n",
    "null_percentages = null_percentages[null_percentages > 0.01]\n",
    "print(null_percentages)"
   ]
  },
  {
   "cell_type": "markdown",
   "id": "e378e3de-8969-439d-a934-0714df917824",
   "metadata": {},
   "source": [
    "#### The loan end date column has over 94% of Null values, we will drop that column"
   ]
  },
  {
   "cell_type": "code",
   "execution_count": null,
   "id": "9ba7d2e1-c7c2-416a-a736-64fa14c8caeb",
   "metadata": {},
   "outputs": [],
   "source": [
    "df = df.drop('Loan Date End', axis=1)"
   ]
  },
  {
   "cell_type": "code",
   "execution_count": 430,
   "id": "f5e40ab9-ce42-4224-a508-ca845b55a00f",
   "metadata": {},
   "outputs": [
    {
     "name": "stdout",
     "output_type": "stream",
     "text": [
      "Composure     0.021386\n",
      "start_year    0.019453\n",
      "end_year      0.072772\n",
      "position_2    0.511865\n",
      "position_3    0.860315\n",
      "position_4    0.998594\n",
      "dtype: float64\n"
     ]
    }
   ],
   "source": [
    "pd.set_option('display.max_rows', 150)\n",
    "pd.set_option('display.max_columns', None)\n",
    "null_counts = df.isnull().sum()\n",
    "null_percentages = null_counts/df.isnull().count()\n",
    "null_percentages = null_percentages[null_percentages > 0.01]\n",
    "print(null_percentages)"
   ]
  },
  {
   "cell_type": "markdown",
   "id": "bef00d06-ece3-4625-a320-cb8d2c4ea351",
   "metadata": {},
   "source": [
    "#### Fill missing Possition1 with correspondong best possition BP"
   ]
  },
  {
   "cell_type": "code",
   "execution_count": 391,
   "id": "1024b23c-8f4a-4997-bf9d-8a3322bb0def",
   "metadata": {},
   "outputs": [],
   "source": [
    "df['Position'] = df['Position'].fillna(df['BP'])\n",
    "df['position_1'] = df['position_1'].fillna(df['BP'])"
   ]
  },
  {
   "cell_type": "markdown",
   "id": "5ff5be53-f019-456c-8f92-7e866e207d2b",
   "metadata": {},
   "source": [
    "### Make numerical encoders for categorical variables"
   ]
  },
  {
   "cell_type": "code",
   "execution_count": 431,
   "id": "a1a3e340-7d0e-43aa-bd4a-40f421298b80",
   "metadata": {},
   "outputs": [
    {
     "name": "stdout",
     "output_type": "stream",
     "text": [
      "Name\n",
      "Nationality\n",
      "Club\n",
      "BP\n",
      "Position\n",
      "Team & Contract\n",
      "foot\n",
      "Joined\n",
      "A/W\n",
      "D/W\n",
      "Gender\n",
      "position_1\n",
      "position_2\n",
      "position_3\n",
      "position_4\n"
     ]
    }
   ],
   "source": [
    "categoricals=df.select_dtypes(include=[object])\n",
    "for col in categoricals.columns:\n",
    "    print(col)"
   ]
  },
  {
   "cell_type": "code",
   "execution_count": 433,
   "id": "c4b97236-c197-4ad6-99ee-186ff1992c16",
   "metadata": {},
   "outputs": [],
   "source": [
    "### We will leave out Name, Nationality, Club , Team & Contract, Joined, Gender, position1 and positions 2-4"
   ]
  },
  {
   "cell_type": "code",
   "execution_count": 355,
   "id": "6d8edd78-4ca1-4fdc-8f2f-f867eea296a7",
   "metadata": {},
   "outputs": [],
   "source": [
    "from sklearn.preprocessing import LabelEncoder\n",
    "\n",
    "# Create a label encoder object\n",
    "encoder = LabelEncoder()\n",
    "\n"
   ]
  },
  {
   "cell_type": "code",
   "execution_count": null,
   "id": "3c685d3a-2967-44eb-89f0-ba9ddc785040",
   "metadata": {},
   "outputs": [],
   "source": [
    "# Fit the encoder to the Position column\n",
    "encoder.fit(df['position_1'])\n",
    "\n",
    "# Transform the Position column using the fitted encoder\n",
    "df['Position_code'] = encoder.transform(df['position_1'])"
   ]
  },
  {
   "cell_type": "code",
   "execution_count": 376,
   "id": "5d3a7f13-7fd6-48e7-9b9c-28187f4ca2f9",
   "metadata": {},
   "outputs": [],
   "source": [
    "# Fit the encoder to the Best Position column\n",
    "encoder.fit(df['BP'])\n",
    "\n",
    "# Transform the Best Position column using the fitted encoder\n",
    "df['BP_code'] = encoder.transform(df['BP'])"
   ]
  },
  {
   "cell_type": "code",
   "execution_count": 381,
   "id": "e7d3f59b-ab86-4cd9-8261-1c9686757789",
   "metadata": {},
   "outputs": [],
   "source": [
    "# Fit the encoder to the foot column\n",
    "encoder.fit(df['foot'])\n",
    "\n",
    "# Transform the Best foot column using the fitted encoder\n",
    "df['foot_code'] = encoder.transform(df['foot'])"
   ]
  },
  {
   "cell_type": "code",
   "execution_count": 382,
   "id": "1bc29b8d-5968-4df8-a2c1-29dbfdb061d9",
   "metadata": {},
   "outputs": [],
   "source": [
    "# Fit the encoder to the A/W attack work rate column\n",
    "encoder.fit(df['A/W'])\n",
    "\n",
    "# Transform the A/W attack work rate column using the fitted encoder\n",
    "df['A/W_code'] = encoder.transform(df['A/W'])"
   ]
  },
  {
   "cell_type": "code",
   "execution_count": 383,
   "id": "51afb7b8-552f-485c-adad-2ce5c3391ab6",
   "metadata": {},
   "outputs": [],
   "source": [
    "# Fit the encoder to the D/W defensive work rate column\n",
    "encoder.fit(df['D/W'])\n",
    "\n",
    "# Transform the D/W defensive work rate column using the fitted encoder\n",
    "df['D/W_code'] = encoder.transform(df['D/W'])"
   ]
  },
  {
   "cell_type": "code",
   "execution_count": 435,
   "id": "bbb45518-a3f3-45d6-820f-d9a7e6e1b99b",
   "metadata": {},
   "outputs": [
    {
     "data": {
      "image/png": "[encoded data removed]",
      "text/plain": [
       "<Figure size 864x288 with 1 Axes>"
      ]
     },
     "metadata": {
      "needs_background": "light"
     },
     "output_type": "display_data"
    }
   ],
   "source": [
    "for c in ['position_1']:\n",
    "    \n",
    "    plt.figure(figsize=(12,4))\n",
    "    x = df[c].value_counts().index.astype(str)  # use the index of value_counts as x\n",
    "    plt.bar(x, df[c].value_counts())\n",
    "    plt.title(c)\n",
    "    plt.show()\n"
   ]
  },
  {
   "cell_type": "code",
   "execution_count": 436,
   "id": "5334e554-bedc-4437-9772-5a73e28a121f",
   "metadata": {},
   "outputs": [
    {
     "data": {
      "text/plain": [
       "array(['LM', 'CM', 'CAM', 'RW', 'RB', 'CDM', 'ST', 'CB', 'GK', 'RM', 'CF',\n",
       "       'LB', 'LWB', 'LW', 'RWB', 'ACB', 'IVST', 'ND', 'IILB', 'IIRM'],\n",
       "      dtype=object)"
      ]
     },
     "execution_count": 436,
     "metadata": {},
     "output_type": "execute_result"
    }
   ],
   "source": [
    "df['position_1'].unique()"
   ]
  },
  {
   "cell_type": "code",
   "execution_count": 437,
   "id": "1b0d45c2-e024-4bf5-8065-3a81f20f0653",
   "metadata": {},
   "outputs": [
    {
     "data": {
      "image/png": "[encoded data removed]",
      "text/plain": [
       "<Figure size 864x288 with 1 Axes>"
      ]
     },
     "metadata": {
      "needs_background": "light"
     },
     "output_type": "display_data"
    }
   ],
   "source": [
    "\n",
    "for c in ['Position_code']:\n",
    "    \n",
    "    plt.figure(figsize=(12,4))\n",
    "    x = df[c].value_counts().index.astype(str)  # use the index of value_counts as x\n",
    "    plt.bar(x, df[c].value_counts())\n",
    "    plt.title(c)\n",
    "    plt.show()"
   ]
  },
  {
   "cell_type": "code",
   "execution_count": 438,
   "id": "8de946d5-a529-4aee-a262-8621d669968e",
   "metadata": {},
   "outputs": [],
   "source": [
    "numerical=df.select_dtypes(include=[np.number])"
   ]
  },
  {
   "cell_type": "code",
   "execution_count": 440,
   "id": "bd4d07e1-8423-48d8-bb4e-7193284addf8",
   "metadata": {},
   "outputs": [
    {
     "name": "stdout",
     "output_type": "stream",
     "text": [
      "ID\n",
      "Age\n",
      "OVA\n",
      "BOV\n",
      "POT\n",
      "Height\n",
      "Weight\n",
      "Growth\n",
      "Value\n",
      "Wage\n",
      "Release Clause\n",
      "Attacking\n",
      "Crossing\n",
      "Finishing\n",
      "Heading Accuracy\n",
      "Short Passing\n",
      "Volleys\n",
      "Skill\n",
      "Dribbling\n",
      "Curve\n",
      "FK Accuracy\n",
      "Long Passing\n",
      "Ball Control\n",
      "Movement\n",
      "Acceleration\n",
      "Sprint Speed\n",
      "Agility\n",
      "Reactions\n",
      "Balance\n",
      "Power\n",
      "Shot Power\n",
      "Jumping\n",
      "Stamina\n",
      "Strength\n",
      "Long Shots\n",
      "Mentality\n",
      "Aggression\n",
      "Interceptions\n",
      "Positioning\n",
      "Vision\n",
      "Penalties\n",
      "Composure\n",
      "Defending\n",
      "Marking\n",
      "Standing Tackle\n",
      "Sliding Tackle\n",
      "Goalkeeping\n",
      "GK Diving\n",
      "GK Handling\n",
      "GK Kicking\n",
      "GK Positioning\n",
      "GK Reflexes\n",
      "Total Stats\n",
      "Base Stats\n",
      "W/F\n",
      "SM\n",
      "IR\n",
      "PAC\n",
      "SHO\n",
      "PAS\n",
      "DRI\n",
      "DEF\n",
      "PHY\n",
      "Hits\n",
      "available\n",
      "start_year\n",
      "end_year\n",
      "LS_base\n",
      "LS_bonus\n",
      "ST_base\n",
      "ST_bonus\n",
      "RS_base\n",
      "RS_bonus\n",
      "LW_base\n",
      "LW_bonus\n",
      "LF_base\n",
      "LF_bonus\n",
      "CF_base\n",
      "CF_bonus\n",
      "RF_base\n",
      "RF_bonus\n",
      "RW_base\n",
      "RW_bonus\n",
      "LAM_base\n",
      "LAM_bonus\n",
      "CAM_base\n",
      "CAM_bonus\n",
      "RAM_base\n",
      "RAM_bonus\n",
      "LM_base\n",
      "LM_bonus\n",
      "LCM_base\n",
      "LCM_bonus\n",
      "CM_base\n",
      "CM_bonus\n",
      "RCM_base\n",
      "RCM_bonus\n",
      "RM_base\n",
      "RM_bonus\n",
      "LWB_base\n",
      "LWB_bonus\n",
      "LDM_base\n",
      "LDM_bonus\n",
      "CDM_base\n",
      "CDM_bonus\n",
      "RDM_base\n",
      "RDM_bonus\n",
      "RWB_base\n",
      "RWB_bonus\n",
      "LB_base\n",
      "LB_bonus\n",
      "LCB_base\n",
      "LCB_bonus\n",
      "CB_base\n",
      "CB_bonus\n",
      "RCB_base\n",
      "RCB_bonus\n",
      "RB_base\n",
      "RB_bonus\n",
      "GK_base\n",
      "GK_bonus\n",
      "Position_code\n",
      "BP_code\n",
      "foot_code\n",
      "A/W_code\n",
      "D/W_code\n"
     ]
    }
   ],
   "source": [
    "for col in numerical.columns:\n",
    "    print(col)"
   ]
  },
  {
   "cell_type": "code",
   "execution_count": null,
   "id": "034eca40-ae60-40a1-94dc-365584793331",
   "metadata": {},
   "outputs": [],
   "source": [
    "numerical.isnull().sum()"
   ]
  },
  {
   "cell_type": "code",
   "execution_count": 453,
   "id": "dbf2a4d5-8548-4f1f-8890-633021b78309",
   "metadata": {},
   "outputs": [
    {
     "name": "stdout",
     "output_type": "stream",
     "text": [
      "[-4.88689138e-07  2.58180658e-02  3.19611008e-01 -6.34554797e-01\n",
      "  1.57095578e-01 -2.78948925e-02  1.26229669e-03 -1.62515442e-01\n",
      " -6.49703753e-08  9.78861252e-06  1.34852662e-08  1.31243056e-02\n",
      "  4.11875804e-02 -3.30866802e-02  5.24154305e-02 -2.22229233e-02\n",
      " -2.51691018e-02 -1.57087560e-02  3.23786633e-02  3.52354059e-02\n",
      " -1.77669127e-02 -7.54966221e-02  9.94070966e-03 -8.39841405e-03\n",
      " -1.33180187e-02 -8.98629927e-03  1.98463237e-02 -8.38263926e-03\n",
      "  2.44221952e-03 -2.89175447e-03 -2.30520541e-03  1.18747268e-02\n",
      " -2.81210754e-03 -1.93172299e-03 -7.71744533e-03  1.06483100e-02\n",
      "  3.71295664e-04 -4.25822370e-02  5.11412540e-02 -7.94481553e-03\n",
      "  9.66281285e-03 -2.38274229e-02  8.48946876e-03 -2.62462612e-02\n",
      " -6.07063041e-03  1.87029743e-02  1.08084422e-02 -2.13073462e-04\n",
      "  1.53220486e-02  4.73269266e-03 -1.19471357e-02 -8.35075744e-03\n",
      "  1.60031724e-02 -4.47915507e-02 -5.92801062e-01  1.80046764e-01\n",
      "  4.86975986e-02  7.58141614e-02 -1.35948660e-01  3.04305360e-02\n",
      " -9.83153646e-03  6.84107273e-03 -2.40068091e-04 -1.00202759e-01\n",
      "  7.61874146e-02 -2.57512556e-01  7.61874146e-02 -2.57512556e-01\n",
      "  7.61874146e-02 -2.57512556e-01 -4.74423605e-02 -1.10518388e+00\n",
      "  7.39449205e-03  7.13635956e-01  7.39449205e-03  7.13635956e-01\n",
      "  7.39449205e-03  7.13635956e-01 -4.74423605e-02 -1.10518388e+00\n",
      " -1.73927592e-01  5.20141524e-01 -1.73927592e-01  5.20141524e-01\n",
      " -1.73927592e-01  5.20141524e-01  2.68403044e-01 -2.33667322e-01\n",
      "  1.85433032e-02 -1.17545285e-01  1.85433032e-02 -1.17545285e-01\n",
      "  1.85433032e-02 -1.17545285e-01  2.68403044e-01 -2.33667322e-01\n",
      "  4.47233296e-02 -5.25651186e-01  3.76266548e-02  1.02287393e-02\n",
      "  3.76266548e-02  1.02287393e-02  3.76266548e-02  1.02287393e-02\n",
      "  4.47233296e-02 -5.25651186e-01  1.45689810e-02  4.92759420e-01\n",
      " -1.51925099e-02  2.67247722e-01 -1.51925099e-02  2.67247722e-01\n",
      " -1.51925099e-02  2.67247722e-01  1.45689810e-02  4.92759420e-01\n",
      " -3.32255318e-02 -4.84379155e-02  9.56706801e-01 -1.76845116e-01\n",
      "  1.01916326e-01]\n",
      "0.6033949551135576\n"
     ]
    }
   ],
   "source": [
    "from sklearn.linear_model import LinearRegression\n",
    "from sklearn.model_selection import train_test_split\n",
    "\n",
    "# Split the data into features (X) and target (y), removing position code and position as well as data which has null entries and is not relevant\n",
    "X = numerical.drop(['BP_code', 'Position_code','Composure','start_year', 'end_year'], axis=1)\n",
    "y = numerical['BP_code']\n",
    "\n",
    "\n",
    "# Split the data into training and test sets\n",
    "X_train, X_test, y_train, y_test = train_test_split(X, y, test_size=0.2, random_state=42)\n",
    "\n",
    "\n",
    "# Create a LinearRegression model\n",
    "model = LinearRegression()\n",
    "\n",
    "# Fit the model to the data\n",
    "model.fit(X_train, y_train)\n",
    "\n",
    "# Print the coefficients\n",
    "print(model.coef_)\n",
    "\n",
    "print(model.score(X_test, y_test))\n"
   ]
  },
  {
   "cell_type": "code",
   "execution_count": 447,
   "id": "c62744f5-cc2c-406c-87ba-eaa2f7312343",
   "metadata": {},
   "outputs": [
    {
     "name": "stdout",
     "output_type": "stream",
     "text": [
      "Finishing           0.377400\n",
      "PAC                 0.353461\n",
      "Positioning         0.334203\n",
      "SHO                 0.331839\n",
      "Sprint Speed        0.313459\n",
      "Acceleration        0.294859\n",
      "Volleys             0.287013\n",
      "Penalties           0.267938\n",
      "ST_base             0.266198\n",
      "RS_base             0.266198\n",
      "LS_base             0.266198\n",
      "Movement            0.243013\n",
      "CF_base             0.224547\n",
      "LF_base             0.224547\n",
      "RF_base             0.224547\n",
      "RW_base             0.216026\n",
      "LW_base             0.216026\n",
      "Agility             0.212707\n",
      "Long Shots          0.206910\n",
      "LCB_bonus           0.204149\n",
      "CB_bonus            0.204149\n",
      "RCB_bonus           0.204149\n",
      "Attacking           0.200382\n",
      "Dribbling           0.199636\n",
      "Shot Power          0.195600\n",
      "DRI                 0.191733\n",
      "LM_base             0.167499\n",
      "RM_base             0.167499\n",
      "LAM_base            0.158550\n",
      "CAM_base            0.158550\n",
      "RAM_base            0.158550\n",
      "Power               0.156750\n",
      "SM                  0.143770\n",
      "Curve               0.126130\n",
      "Balance             0.116485\n",
      "Crossing            0.110960\n",
      "LDM_bonus           0.105453\n",
      "RDM_bonus           0.105453\n",
      "CDM_bonus           0.105453\n",
      "Ball Control        0.104281\n",
      "W/F                 0.087365\n",
      "LCM_bonus           0.085659\n",
      "CM_bonus            0.085659\n",
      "RCM_bonus           0.085659\n",
      "foot_code           0.085653\n",
      "Stamina             0.071973\n",
      "D/W_code            0.071277\n",
      "Heading Accuracy    0.066652\n",
      "CAM_bonus           0.057486\n",
      "RAM_bonus           0.057486\n",
      "LAM_bonus           0.057486\n",
      "Skill               0.054128\n",
      "Vision              0.046061\n",
      "ID                  0.043550\n",
      "Jumping             0.041585\n",
      "Total Stats         0.031586\n",
      "RB_bonus            0.022040\n",
      "LB_bonus            0.022040\n",
      "GK_bonus            0.017457\n",
      "Base Stats          0.014627\n",
      "FK Accuracy         0.012080\n",
      "end_year            0.007048\n",
      "RWB_bonus           0.005610\n",
      "LWB_bonus           0.005610\n",
      "Mentality          -0.004249\n",
      "available          -0.004893\n",
      "Hits               -0.005067\n",
      "start_year         -0.005234\n",
      "RF_bonus           -0.008950\n",
      "CF_bonus           -0.008950\n",
      "LF_bonus           -0.008950\n",
      "Wage               -0.016975\n",
      "RCM_base           -0.020092\n",
      "CM_base            -0.020092\n",
      "LCM_base           -0.020092\n",
      "Value              -0.020164\n",
      "Age                -0.021601\n",
      "Composure          -0.021832\n",
      "Release Clause     -0.022298\n",
      "Growth             -0.026532\n",
      "Reactions          -0.032369\n",
      "Strength           -0.034269\n",
      "IR                 -0.036606\n",
      "OVA                -0.038465\n",
      "LW_bonus           -0.045060\n",
      "RW_bonus           -0.045060\n",
      "LM_bonus           -0.046505\n",
      "RM_bonus           -0.046505\n",
      "GK Kicking         -0.055132\n",
      "GK Diving          -0.056501\n",
      "Weight             -0.056804\n",
      "GK Handling        -0.057074\n",
      "GK Positioning     -0.057151\n",
      "GK Reflexes        -0.057192\n",
      "Goalkeeping        -0.057391\n",
      "GK_base            -0.059417\n",
      "BOV                -0.061450\n",
      "POT                -0.072563\n",
      "Short Passing      -0.073874\n",
      "PHY                -0.080227\n",
      "PAS                -0.088142\n",
      "Height             -0.092041\n",
      "Aggression         -0.155532\n",
      "RWB_base           -0.183503\n",
      "LWB_base           -0.183503\n",
      "A/W_code           -0.213546\n",
      "LB_base            -0.233113\n",
      "RB_base            -0.233113\n",
      "Long Passing       -0.242466\n",
      "RS_bonus           -0.274328\n",
      "LS_bonus           -0.274328\n",
      "ST_bonus           -0.274328\n",
      "CDM_base           -0.291711\n",
      "RDM_base           -0.291711\n",
      "LDM_base           -0.291711\n",
      "RCB_base           -0.327217\n",
      "CB_base            -0.327217\n",
      "LCB_base           -0.327217\n",
      "Marking            -0.396546\n",
      "Interceptions      -0.423778\n",
      "Defending          -0.430093\n",
      "Standing Tackle    -0.432060\n",
      "Sliding Tackle     -0.434563\n",
      "DEF                -0.484707\n",
      "Name: BP_code, dtype: float64\n"
     ]
    }
   ],
   "source": [
    "# Compute the correlation coefficients between all numerical attributes and BP_code\n",
    "correlations = numerical.corr()['BP_code'].drop(['BP_code', 'Position_code']).sort_values(ascending=False)\n",
    "\n",
    "# Print the correlations in descending order\n",
    "print(correlations)"
   ]
  },
  {
   "cell_type": "markdown",
   "id": "44dc8ab9-43b8-40c3-8d7e-b82a934a6962",
   "metadata": {},
   "source": [
    "#### Attempted the same, but removing everything with less than 10% correlation, the result was worse"
   ]
  },
  {
   "cell_type": "code",
   "execution_count": 454,
   "id": "7b37c7ac-96e9-4ce6-b85e-f07bfa779493",
   "metadata": {},
   "outputs": [
    {
     "name": "stdout",
     "output_type": "stream",
     "text": [
      "[ 3.69615679e-02  1.14707597e-02 -6.00242794e-02 -6.01664446e-02\n",
      "  8.22415124e-02 -2.00300234e-02 -9.98944734e-02  4.32009201e-02\n",
      " -2.92196689e-02 -3.21473887e-04  5.55362011e-03  4.98186649e-02\n",
      "  2.21757509e-02  1.40592240e-02 -3.85555694e-02 -3.39873868e-02\n",
      "  3.54223565e-02  1.63923589e-02  8.74602828e-02  6.43062400e-03\n",
      " -3.17044269e-03  1.41922728e-02 -1.83873461e-02  1.02463056e-03\n",
      " -9.30972157e-01  7.32929633e-02  8.36054941e-02 -3.45714091e-02\n",
      "  2.22418929e-02  1.08914946e-01 -2.36259987e-01  1.08914946e-01\n",
      " -2.36259987e-01  1.08914946e-01 -2.36259987e-01 -1.15919118e-01\n",
      "  1.90772734e-02  1.90772734e-02  1.90772734e-02 -1.15919118e-01\n",
      " -2.28716373e-01 -2.28716373e-01 -2.28716373e-01  2.80623352e-01\n",
      "  2.80623352e-01  1.32620680e-02 -5.32654370e-02 -7.47354717e-02\n",
      " -5.32654370e-02 -7.47354717e-02 -5.32654370e-02 -7.47354717e-02\n",
      "  1.32620680e-02  2.52022755e-02 -5.02953679e-02  2.54120418e-01\n",
      " -5.02953679e-02  2.54120418e-01 -5.02953679e-02  2.54120418e-01\n",
      "  2.52022755e-02 -1.96591881e-01]\n",
      "0.5497402244177789\n"
     ]
    }
   ],
   "source": [
    "from sklearn.linear_model import LinearRegression\n",
    "\n",
    "# Split the data into features (X) and target (y), removing position code and position as well as data which has null entries and is not relevant\n",
    "X = numerical.drop(['BP_code', 'Position_code','Composure','start_year', 'end_year','Height','PAS','PHY','Short Passing','POT','BOV','GK_base','Goalkeeping','GK Reflexes','GK Positioning','GK Handling','Weight','GK Diving','GK Kicking','RM_bonus','LM_bonus','RW_bonus','LW_bonus','OVA','IR','Strength','Reactions','Growth','Release Clause','Age','Value','LCM_base','CM_base','RCM_base','Wage','LF_bonus','W/F', 'LCM_bonus', 'CM_bonus', 'RCM_bonus', 'foot_code', 'Stamina', 'D/W_code', 'Heading Accuracy', 'CAM_bonus', 'RAM_bonus', 'LAM_bonus', 'Skill', 'Vision', 'ID', 'Jumping', 'Total Stats', 'RB_bonus', 'LB_bonus', 'GK_bonus', 'Base Stats', 'FK Accuracy', 'end_year', 'RWB_bonus', 'LWB_bonus', 'Mentality', 'available', 'Hits', 'RF_bonus', 'CF_bonus'], axis=1)\n",
    "y = numerical['BP_code']\n",
    "\n",
    "# Create a LinearRegression model\n",
    "model = LinearRegression()\n",
    "\n",
    "# Split the data into training and test sets\n",
    "X_train, X_test, y_train, y_test = train_test_split(X, y, test_size=0.2, random_state=42)\n",
    "\n",
    "\n",
    "# Create a LinearRegression model\n",
    "model = LinearRegression()\n",
    "\n",
    "# Fit the model to the data\n",
    "model.fit(X_train, y_train)\n",
    "\n",
    "# Print the coefficients\n",
    "print(model.coef_)\n",
    "\n",
    "print(model.score(X_test, y_test))"
   ]
  },
  {
   "cell_type": "code",
   "execution_count": null,
   "id": "7019c615-0143-4ec3-a438-42269f38c6e5",
   "metadata": {},
   "outputs": [],
   "source": [
    "#### Attempted the same, but removing everything with less than 30% correlation, the result was worse"
   ]
  },
  {
   "cell_type": "code",
   "execution_count": 455,
   "id": "840b7413-b266-4545-80fa-ab8ffadc6adc",
   "metadata": {},
   "outputs": [
    {
     "name": "stdout",
     "output_type": "stream",
     "text": [
      "[ 0.04646853 -0.06460839 -0.10982508  0.09415176 -0.07739296 -0.02628064\n",
      " -0.07729634  0.02618401  0.14755974 -0.13085242  0.11003151  0.09769514\n",
      "  0.09769514  0.09769514]\n",
      "0.4150295019434358\n"
     ]
    }
   ],
   "source": [
    "from sklearn.linear_model import LinearRegression\n",
    "\n",
    "# Split the data into features (X) and target (y), removing position code and position as well as data which has null entries and is not relevant\n",
    "X = numerical.drop(['BP_code', 'Position_code','Acceleration', 'Volleys', 'Penalties', 'ST_base', 'RS_base', 'LS_base', 'Movement', 'CF_base', 'LF_base', 'RF_base', 'RW_base', 'LW_base', 'Agility', 'Long Shots', 'LCB_bonus', 'CB_bonus', 'RCB_bonus', 'Attacking', 'Dribbling', 'Shot Power', 'DRI', 'LM_base', 'RM_base', 'LAM_base', 'CAM_base', 'RAM_base', 'Power', 'SM', 'Curve', 'Balance', 'Crossing', 'LDM_bonus', 'RDM_bonus', 'CDM_bonus', 'Ball Control', 'W/F', 'LCM_bonus', 'CM_bonus', 'RCM_bonus', 'foot_code', 'Stamina', 'D/W_code', 'Heading Accuracy', 'CAM_bonus', 'RAM_bonus', 'LAM_bonus', 'Skill', 'Vision', 'ID', 'Jumping', 'Total Stats', 'RB_bonus', 'LB_bonus', 'GK_bonus', 'Base Stats', 'FK Accuracy', 'end_year', 'RWB_bonus', 'LWB_bonus', 'Mentality', 'available', 'Hits', 'start_year', 'RF_bonus', 'CF_bonus', 'LF_bonus', 'Wage', 'RCM_base', 'CM_base', 'LCM_base', 'Value', 'Age', 'Composure', 'Release Clause', 'Growth', 'Reactions', 'Strength', 'IR', 'OVA', 'LW_bonus', 'RW_bonus', 'LM_bonus', 'RM_bonus', 'GK Kicking', 'GK Diving', 'Weight', 'GK Handling', 'GK Positioning', 'GK Reflexes', 'Goalkeeping', 'GK_base', 'BOV', 'POT', 'Short Passing', 'PHY', 'PAS', 'Height', 'Aggression', 'RWB_base', 'LWB_base', 'A/W_code', 'LB_base', 'RB_base', 'Long Passing', 'RS_bonus', 'LS_bonus', 'ST_bonus', 'CDM_base', 'RDM_base', 'LDM_base'], axis=1)\n",
    "y = numerical['BP_code']\n",
    "\n",
    "# Create a LinearRegression model\n",
    "model = LinearRegression()\n",
    "\n",
    "# Split the data into training and test sets\n",
    "X_train, X_test, y_train, y_test = train_test_split(X, y, test_size=0.2, random_state=42)\n",
    "\n",
    "\n",
    "# Create a LinearRegression model\n",
    "model = LinearRegression()\n",
    "\n",
    "# Fit the model to the data\n",
    "model.fit(X_train, y_train)\n",
    "\n",
    "# Print the coefficients\n",
    "print(model.coef_)\n",
    "\n",
    "print(model.score(X_test, y_test))"
   ]
  },
  {
   "cell_type": "code",
   "execution_count": null,
   "id": "33d86fe1-5a2d-4c6e-8789-ce3b11bade19",
   "metadata": {},
   "outputs": [],
   "source": []
  }
 ],
 "metadata": {
  "kernelspec": {
   "display_name": "Python 3 (ipykernel)",
   "language": "python",
   "name": "python3"
  },
  "language_info": {
   "codemirror_mode": {
    "name": "ipython",
    "version": 3
   },
   "file_extension": ".py",
   "mimetype": "text/x-python",
   "name": "python",
   "nbconvert_exporter": "python",
   "pygments_lexer": "ipython3",
   "version": "3.9.12"
  }
 },
 "nbformat": 4,
 "nbformat_minor": 5
}

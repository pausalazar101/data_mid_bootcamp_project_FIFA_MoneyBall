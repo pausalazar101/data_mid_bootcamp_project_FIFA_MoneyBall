{
 "cells": [
  {
   "cell_type": "code",
   "execution_count": 282,
   "id": "112f0224-8cf6-47c7-8d70-59b657b868e4",
   "metadata": {},
   "outputs": [],
   "source": [
    "import pandas as pd\n",
    "import numpy as np\n",
    "import matplotlib. pyplot as plt\n",
    "import seaborn as sns\n",
    "import pylab\n",
    "import scipy.stats as stats\n"
   ]
  },
  {
   "cell_type": "code",
   "execution_count": 307,
   "id": "9f2d0ca8-aa1d-440f-8f40-7d063db39660",
   "metadata": {},
   "outputs": [],
   "source": [
    "\n",
    "df=pd.read_csv('fifa21_male2.csv', low_memory=False)"
   ]
  },
  {
   "cell_type": "code",
   "execution_count": 308,
   "id": "c3782daa-2fc5-40c3-aac6-bebba95c185c",
   "metadata": {},
   "outputs": [
    {
     "data": {
      "text/plain": [
       "Index(['ID', 'Name', 'Age', 'OVA', 'Nationality', 'Club', 'BOV', 'BP',\n",
       "       'Position', 'Player Photo',\n",
       "       ...\n",
       "       'CDM', 'RDM', 'RWB', 'LB', 'LCB', 'CB', 'RCB', 'RB', 'GK', 'Gender'],\n",
       "      dtype='object', length=107)"
      ]
     },
     "execution_count": 308,
     "metadata": {},
     "output_type": "execute_result"
    }
   ],
   "source": [
    "df.columns"
   ]
  },
  {
   "cell_type": "code",
   "execution_count": null,
   "id": "adeb3cae-7b86-4981-8872-2f35beb377ab",
   "metadata": {},
   "outputs": [],
   "source": [
    "df.transpose()"
   ]
  },
  {
   "cell_type": "code",
   "execution_count": 309,
   "id": "0fe7b284-1f61-488b-9bdb-4c64b0f15541",
   "metadata": {},
   "outputs": [],
   "source": [
    "df=df.drop(['Player Photo','Club Logo','Flag Photo'],axis=1) #We drop all columns that contain images"
   ]
  },
  {
   "cell_type": "markdown",
   "id": "cc758027-11c0-4699-9754-8e66dd89a7df",
   "metadata": {},
   "source": [
    "### Length and Weight Columns"
   ]
  },
  {
   "cell_type": "code",
   "execution_count": 310,
   "id": "c501c6a7-4f63-4155-b6f0-523ce905f2e6",
   "metadata": {},
   "outputs": [],
   "source": [
    "def to_cm(x): #Converts Feet and Inches to cm, only works if we remove the last \"\n",
    "    feet, inches = x.split(\"'\")\n",
    "    feet = int(feet)\n",
    "    inches = int(inches.strip('\"'))\n",
    "    return 2.54*((feet * 12) + inches)"
   ]
  },
  {
   "cell_type": "code",
   "execution_count": 311,
   "id": "db8fe671-733d-412a-a886-6c4a1bc661af",
   "metadata": {},
   "outputs": [
    {
     "data": {
      "text/plain": [
       "182.88"
      ]
     },
     "execution_count": 311,
     "metadata": {},
     "output_type": "execute_result"
    }
   ],
   "source": [
    "to_cm(\"6'0\")"
   ]
  },
  {
   "cell_type": "code",
   "execution_count": 312,
   "id": "38e3e5bb-a4f0-4a16-9d94-cb6275c635ce",
   "metadata": {},
   "outputs": [],
   "source": [
    "df['Height'] = df['Height'].str[:-1] # removed the last \""
   ]
  },
  {
   "cell_type": "code",
   "execution_count": 313,
   "id": "6e106c3f-5d1d-48cd-a07a-b83865447d76",
   "metadata": {},
   "outputs": [],
   "source": [
    "df['Height'] = df['Height'].apply(to_cm) #To have one standard unit in the column height, we convert the column to cm"
   ]
  },
  {
   "cell_type": "code",
   "execution_count": 314,
   "id": "e8e526cd-e3ed-48e4-836a-5a98c284166c",
   "metadata": {},
   "outputs": [
    {
     "data": {
      "text/html": [
       "<div>\n",
       "<style scoped>\n",
       "    .dataframe tbody tr th:only-of-type {\n",
       "        vertical-align: middle;\n",
       "    }\n",
       "\n",
       "    .dataframe tbody tr th {\n",
       "        vertical-align: top;\n",
       "    }\n",
       "\n",
       "    .dataframe thead th {\n",
       "        text-align: right;\n",
       "    }\n",
       "</style>\n",
       "<table border=\"1\" class=\"dataframe\">\n",
       "  <thead>\n",
       "    <tr style=\"text-align: right;\">\n",
       "      <th></th>\n",
       "      <th>Height</th>\n",
       "    </tr>\n",
       "  </thead>\n",
       "  <tbody>\n",
       "    <tr>\n",
       "      <th>0</th>\n",
       "      <td>182.88</td>\n",
       "    </tr>\n",
       "    <tr>\n",
       "      <th>1</th>\n",
       "      <td>177.80</td>\n",
       "    </tr>\n",
       "    <tr>\n",
       "      <th>2</th>\n",
       "      <td>175.26</td>\n",
       "    </tr>\n",
       "    <tr>\n",
       "      <th>3</th>\n",
       "      <td>180.34</td>\n",
       "    </tr>\n",
       "    <tr>\n",
       "      <th>4</th>\n",
       "      <td>170.18</td>\n",
       "    </tr>\n",
       "    <tr>\n",
       "      <th>...</th>\n",
       "      <td>...</td>\n",
       "    </tr>\n",
       "    <tr>\n",
       "      <th>17120</th>\n",
       "      <td>198.12</td>\n",
       "    </tr>\n",
       "    <tr>\n",
       "      <th>17121</th>\n",
       "      <td>177.80</td>\n",
       "    </tr>\n",
       "    <tr>\n",
       "      <th>17122</th>\n",
       "      <td>175.26</td>\n",
       "    </tr>\n",
       "    <tr>\n",
       "      <th>17123</th>\n",
       "      <td>175.26</td>\n",
       "    </tr>\n",
       "    <tr>\n",
       "      <th>17124</th>\n",
       "      <td>177.80</td>\n",
       "    </tr>\n",
       "  </tbody>\n",
       "</table>\n",
       "<p>17125 rows × 1 columns</p>\n",
       "</div>"
      ],
      "text/plain": [
       "       Height\n",
       "0      182.88\n",
       "1      177.80\n",
       "2      175.26\n",
       "3      180.34\n",
       "4      170.18\n",
       "...       ...\n",
       "17120  198.12\n",
       "17121  177.80\n",
       "17122  175.26\n",
       "17123  175.26\n",
       "17124  177.80\n",
       "\n",
       "[17125 rows x 1 columns]"
      ]
     },
     "execution_count": 314,
     "metadata": {},
     "output_type": "execute_result"
    }
   ],
   "source": [
    "df[['Height']] #new column Height"
   ]
  },
  {
   "cell_type": "code",
   "execution_count": 315,
   "id": "f6055081-0eda-442b-b577-229047595f65",
   "metadata": {},
   "outputs": [],
   "source": [
    "df['Weight'] = df['Weight'].str[:-3] # removed lbs"
   ]
  },
  {
   "cell_type": "code",
   "execution_count": 316,
   "id": "ad368390-4ecd-43ac-858b-960688218eea",
   "metadata": {},
   "outputs": [
    {
     "data": {
      "text/html": [
       "<div>\n",
       "<style scoped>\n",
       "    .dataframe tbody tr th:only-of-type {\n",
       "        vertical-align: middle;\n",
       "    }\n",
       "\n",
       "    .dataframe tbody tr th {\n",
       "        vertical-align: top;\n",
       "    }\n",
       "\n",
       "    .dataframe thead th {\n",
       "        text-align: right;\n",
       "    }\n",
       "</style>\n",
       "<table border=\"1\" class=\"dataframe\">\n",
       "  <thead>\n",
       "    <tr style=\"text-align: right;\">\n",
       "      <th></th>\n",
       "      <th>Weight</th>\n",
       "    </tr>\n",
       "  </thead>\n",
       "  <tbody>\n",
       "    <tr>\n",
       "      <th>0</th>\n",
       "      <td>181</td>\n",
       "    </tr>\n",
       "    <tr>\n",
       "      <th>1</th>\n",
       "      <td>143</td>\n",
       "    </tr>\n",
       "    <tr>\n",
       "      <th>2</th>\n",
       "      <td>161</td>\n",
       "    </tr>\n",
       "    <tr>\n",
       "      <th>3</th>\n",
       "      <td>165</td>\n",
       "    </tr>\n",
       "    <tr>\n",
       "      <th>4</th>\n",
       "      <td>150</td>\n",
       "    </tr>\n",
       "    <tr>\n",
       "      <th>...</th>\n",
       "      <td>...</td>\n",
       "    </tr>\n",
       "    <tr>\n",
       "      <th>17120</th>\n",
       "      <td>165</td>\n",
       "    </tr>\n",
       "    <tr>\n",
       "      <th>17121</th>\n",
       "      <td>170</td>\n",
       "    </tr>\n",
       "    <tr>\n",
       "      <th>17122</th>\n",
       "      <td>154</td>\n",
       "    </tr>\n",
       "    <tr>\n",
       "      <th>17123</th>\n",
       "      <td>148</td>\n",
       "    </tr>\n",
       "    <tr>\n",
       "      <th>17124</th>\n",
       "      <td>154</td>\n",
       "    </tr>\n",
       "  </tbody>\n",
       "</table>\n",
       "<p>17125 rows × 1 columns</p>\n",
       "</div>"
      ],
      "text/plain": [
       "      Weight\n",
       "0        181\n",
       "1        143\n",
       "2        161\n",
       "3        165\n",
       "4        150\n",
       "...      ...\n",
       "17120    165\n",
       "17121    170\n",
       "17122    154\n",
       "17123    148\n",
       "17124    154\n",
       "\n",
       "[17125 rows x 1 columns]"
      ]
     },
     "execution_count": 316,
     "metadata": {},
     "output_type": "execute_result"
    }
   ],
   "source": [
    "df[['Weight']] #new column Height"
   ]
  },
  {
   "cell_type": "markdown",
   "id": "fefab8b1-4d14-46db-a7e7-5a74976cbc43",
   "metadata": {},
   "source": [
    "### Date Columns"
   ]
  },
  {
   "cell_type": "code",
   "execution_count": 317,
   "id": "805064b3-ecae-4f0d-a281-ec843a778fb8",
   "metadata": {},
   "outputs": [
    {
     "data": {
      "text/html": [
       "<div>\n",
       "<style scoped>\n",
       "    .dataframe tbody tr th:only-of-type {\n",
       "        vertical-align: middle;\n",
       "    }\n",
       "\n",
       "    .dataframe tbody tr th {\n",
       "        vertical-align: top;\n",
       "    }\n",
       "\n",
       "    .dataframe thead th {\n",
       "        text-align: right;\n",
       "    }\n",
       "</style>\n",
       "<table border=\"1\" class=\"dataframe\">\n",
       "  <thead>\n",
       "    <tr style=\"text-align: right;\">\n",
       "      <th></th>\n",
       "      <th>Joined</th>\n",
       "    </tr>\n",
       "  </thead>\n",
       "  <tbody>\n",
       "    <tr>\n",
       "      <th>0</th>\n",
       "      <td>2008-07-01</td>\n",
       "    </tr>\n",
       "    <tr>\n",
       "      <th>1</th>\n",
       "      <td>2014-07-19</td>\n",
       "    </tr>\n",
       "    <tr>\n",
       "      <th>2</th>\n",
       "      <td>2016-01-07</td>\n",
       "    </tr>\n",
       "    <tr>\n",
       "      <th>3</th>\n",
       "      <td>NaN</td>\n",
       "    </tr>\n",
       "    <tr>\n",
       "      <th>4</th>\n",
       "      <td>2018-07-16</td>\n",
       "    </tr>\n",
       "    <tr>\n",
       "      <th>...</th>\n",
       "      <td>...</td>\n",
       "    </tr>\n",
       "    <tr>\n",
       "      <th>17120</th>\n",
       "      <td>2020-09-29</td>\n",
       "    </tr>\n",
       "    <tr>\n",
       "      <th>17121</th>\n",
       "      <td>2020-08-20</td>\n",
       "    </tr>\n",
       "    <tr>\n",
       "      <th>17122</th>\n",
       "      <td>2020-08-20</td>\n",
       "    </tr>\n",
       "    <tr>\n",
       "      <th>17123</th>\n",
       "      <td>2020-09-30</td>\n",
       "    </tr>\n",
       "    <tr>\n",
       "      <th>17124</th>\n",
       "      <td>2020-09-30</td>\n",
       "    </tr>\n",
       "  </tbody>\n",
       "</table>\n",
       "<p>17125 rows × 1 columns</p>\n",
       "</div>"
      ],
      "text/plain": [
       "           Joined\n",
       "0      2008-07-01\n",
       "1      2014-07-19\n",
       "2      2016-01-07\n",
       "3             NaN\n",
       "4      2018-07-16\n",
       "...           ...\n",
       "17120  2020-09-29\n",
       "17121  2020-08-20\n",
       "17122  2020-08-20\n",
       "17123  2020-09-30\n",
       "17124  2020-09-30\n",
       "\n",
       "[17125 rows x 1 columns]"
      ]
     },
     "execution_count": 317,
     "metadata": {},
     "output_type": "execute_result"
    }
   ],
   "source": [
    "df['Joined'] = pd.to_datetime(df['Joined']) ## changed the Joined date to a stronger format\n",
    "df['Joined'] = df['Joined'].dt.strftime('%Y-%m-%d')\n",
    "df[['Joined']]"
   ]
  },
  {
   "cell_type": "code",
   "execution_count": 318,
   "id": "643abd83-3a14-4e0a-a180-30d859d9263e",
   "metadata": {},
   "outputs": [
    {
     "data": {
      "text/html": [
       "<div>\n",
       "<style scoped>\n",
       "    .dataframe tbody tr th:only-of-type {\n",
       "        vertical-align: middle;\n",
       "    }\n",
       "\n",
       "    .dataframe tbody tr th {\n",
       "        vertical-align: top;\n",
       "    }\n",
       "\n",
       "    .dataframe thead th {\n",
       "        text-align: right;\n",
       "    }\n",
       "</style>\n",
       "<table border=\"1\" class=\"dataframe\">\n",
       "  <thead>\n",
       "    <tr style=\"text-align: right;\">\n",
       "      <th></th>\n",
       "      <th>Loan Date End</th>\n",
       "    </tr>\n",
       "  </thead>\n",
       "  <tbody>\n",
       "    <tr>\n",
       "      <th>0</th>\n",
       "      <td>NaN</td>\n",
       "    </tr>\n",
       "    <tr>\n",
       "      <th>1</th>\n",
       "      <td>NaN</td>\n",
       "    </tr>\n",
       "    <tr>\n",
       "      <th>2</th>\n",
       "      <td>NaN</td>\n",
       "    </tr>\n",
       "    <tr>\n",
       "      <th>3</th>\n",
       "      <td>NaN</td>\n",
       "    </tr>\n",
       "    <tr>\n",
       "      <th>4</th>\n",
       "      <td>NaN</td>\n",
       "    </tr>\n",
       "    <tr>\n",
       "      <th>...</th>\n",
       "      <td>...</td>\n",
       "    </tr>\n",
       "    <tr>\n",
       "      <th>17120</th>\n",
       "      <td>2021-06-30</td>\n",
       "    </tr>\n",
       "    <tr>\n",
       "      <th>17121</th>\n",
       "      <td>NaN</td>\n",
       "    </tr>\n",
       "    <tr>\n",
       "      <th>17122</th>\n",
       "      <td>NaN</td>\n",
       "    </tr>\n",
       "    <tr>\n",
       "      <th>17123</th>\n",
       "      <td>NaN</td>\n",
       "    </tr>\n",
       "    <tr>\n",
       "      <th>17124</th>\n",
       "      <td>NaN</td>\n",
       "    </tr>\n",
       "  </tbody>\n",
       "</table>\n",
       "<p>17125 rows × 1 columns</p>\n",
       "</div>"
      ],
      "text/plain": [
       "      Loan Date End\n",
       "0               NaN\n",
       "1               NaN\n",
       "2               NaN\n",
       "3               NaN\n",
       "4               NaN\n",
       "...             ...\n",
       "17120    2021-06-30\n",
       "17121           NaN\n",
       "17122           NaN\n",
       "17123           NaN\n",
       "17124           NaN\n",
       "\n",
       "[17125 rows x 1 columns]"
      ]
     },
     "execution_count": 318,
     "metadata": {},
     "output_type": "execute_result"
    }
   ],
   "source": [
    "df['Loan Date End'] = pd.to_datetime(df['Loan Date End']) ## changed the Joined date to a stronger format\n",
    "df['Loan Date End'] = df['Loan Date End'].dt.strftime('%Y-%m-%d')\n",
    "df[['Loan Date End']]"
   ]
  },
  {
   "cell_type": "markdown",
   "id": "c8987361-bad6-452e-b318-c653e40a9671",
   "metadata": {},
   "source": [
    "### Money columns"
   ]
  },
  {
   "cell_type": "code",
   "execution_count": 319,
   "id": "da05e198-1504-4d31-a3c5-9287cf886b27",
   "metadata": {},
   "outputs": [],
   "source": [
    "def multiply_column(df, col_name):\n",
    "    df[col_name] = df[col_name].str.replace('€', '').astype(str)\n",
    "    return df[col_name].apply(lambda x: float(x[:-1]) * 1000 if x.endswith('K') else float(x[:-1]) * 1000000 if x.endswith('M') else float(x))"
   ]
  },
  {
   "cell_type": "code",
   "execution_count": 320,
   "id": "431b5c0f-c946-4b07-b0f5-f8cec0052844",
   "metadata": {},
   "outputs": [],
   "source": [
    "df['Value'] = multiply_column(df, 'Value')"
   ]
  },
  {
   "cell_type": "code",
   "execution_count": 321,
   "id": "c22eeee4-f60a-4597-93d3-c066585394bb",
   "metadata": {},
   "outputs": [
    {
     "data": {
      "text/html": [
       "<div>\n",
       "<style scoped>\n",
       "    .dataframe tbody tr th:only-of-type {\n",
       "        vertical-align: middle;\n",
       "    }\n",
       "\n",
       "    .dataframe tbody tr th {\n",
       "        vertical-align: top;\n",
       "    }\n",
       "\n",
       "    .dataframe thead th {\n",
       "        text-align: right;\n",
       "    }\n",
       "</style>\n",
       "<table border=\"1\" class=\"dataframe\">\n",
       "  <thead>\n",
       "    <tr style=\"text-align: right;\">\n",
       "      <th></th>\n",
       "      <th>Value</th>\n",
       "    </tr>\n",
       "  </thead>\n",
       "  <tbody>\n",
       "    <tr>\n",
       "      <th>0</th>\n",
       "      <td>625000.0</td>\n",
       "    </tr>\n",
       "    <tr>\n",
       "      <th>1</th>\n",
       "      <td>600000.0</td>\n",
       "    </tr>\n",
       "    <tr>\n",
       "      <th>2</th>\n",
       "      <td>1100000.0</td>\n",
       "    </tr>\n",
       "    <tr>\n",
       "      <th>3</th>\n",
       "      <td>0.0</td>\n",
       "    </tr>\n",
       "    <tr>\n",
       "      <th>4</th>\n",
       "      <td>5500000.0</td>\n",
       "    </tr>\n",
       "    <tr>\n",
       "      <th>...</th>\n",
       "      <td>...</td>\n",
       "    </tr>\n",
       "    <tr>\n",
       "      <th>17120</th>\n",
       "      <td>550000.0</td>\n",
       "    </tr>\n",
       "    <tr>\n",
       "      <th>17121</th>\n",
       "      <td>130000.0</td>\n",
       "    </tr>\n",
       "    <tr>\n",
       "      <th>17122</th>\n",
       "      <td>130000.0</td>\n",
       "    </tr>\n",
       "    <tr>\n",
       "      <th>17123</th>\n",
       "      <td>475000.0</td>\n",
       "    </tr>\n",
       "    <tr>\n",
       "      <th>17124</th>\n",
       "      <td>325000.0</td>\n",
       "    </tr>\n",
       "  </tbody>\n",
       "</table>\n",
       "<p>17125 rows × 1 columns</p>\n",
       "</div>"
      ],
      "text/plain": [
       "           Value\n",
       "0       625000.0\n",
       "1       600000.0\n",
       "2      1100000.0\n",
       "3            0.0\n",
       "4      5500000.0\n",
       "...          ...\n",
       "17120   550000.0\n",
       "17121   130000.0\n",
       "17122   130000.0\n",
       "17123   475000.0\n",
       "17124   325000.0\n",
       "\n",
       "[17125 rows x 1 columns]"
      ]
     },
     "execution_count": 321,
     "metadata": {},
     "output_type": "execute_result"
    }
   ],
   "source": [
    "df[['Value']]"
   ]
  },
  {
   "cell_type": "code",
   "execution_count": 322,
   "id": "46a93033-1bee-4093-8e29-ed38b709a2fc",
   "metadata": {},
   "outputs": [],
   "source": [
    "df['Wage'] = multiply_column(df, 'Wage')"
   ]
  },
  {
   "cell_type": "code",
   "execution_count": 323,
   "id": "d71738e8-9836-46be-8da6-8cf72191be05",
   "metadata": {},
   "outputs": [
    {
     "data": {
      "text/html": [
       "<div>\n",
       "<style scoped>\n",
       "    .dataframe tbody tr th:only-of-type {\n",
       "        vertical-align: middle;\n",
       "    }\n",
       "\n",
       "    .dataframe tbody tr th {\n",
       "        vertical-align: top;\n",
       "    }\n",
       "\n",
       "    .dataframe thead th {\n",
       "        text-align: right;\n",
       "    }\n",
       "</style>\n",
       "<table border=\"1\" class=\"dataframe\">\n",
       "  <thead>\n",
       "    <tr style=\"text-align: right;\">\n",
       "      <th></th>\n",
       "      <th>Wage</th>\n",
       "    </tr>\n",
       "  </thead>\n",
       "  <tbody>\n",
       "    <tr>\n",
       "      <th>0</th>\n",
       "      <td>7000.0</td>\n",
       "    </tr>\n",
       "    <tr>\n",
       "      <th>1</th>\n",
       "      <td>7000.0</td>\n",
       "    </tr>\n",
       "    <tr>\n",
       "      <th>2</th>\n",
       "      <td>15000.0</td>\n",
       "    </tr>\n",
       "    <tr>\n",
       "      <th>3</th>\n",
       "      <td>0.0</td>\n",
       "    </tr>\n",
       "    <tr>\n",
       "      <th>4</th>\n",
       "      <td>12000.0</td>\n",
       "    </tr>\n",
       "    <tr>\n",
       "      <th>...</th>\n",
       "      <td>...</td>\n",
       "    </tr>\n",
       "    <tr>\n",
       "      <th>17120</th>\n",
       "      <td>2000.0</td>\n",
       "    </tr>\n",
       "    <tr>\n",
       "      <th>17121</th>\n",
       "      <td>3000.0</td>\n",
       "    </tr>\n",
       "    <tr>\n",
       "      <th>17122</th>\n",
       "      <td>2000.0</td>\n",
       "    </tr>\n",
       "    <tr>\n",
       "      <th>17123</th>\n",
       "      <td>3000.0</td>\n",
       "    </tr>\n",
       "    <tr>\n",
       "      <th>17124</th>\n",
       "      <td>2000.0</td>\n",
       "    </tr>\n",
       "  </tbody>\n",
       "</table>\n",
       "<p>17125 rows × 1 columns</p>\n",
       "</div>"
      ],
      "text/plain": [
       "          Wage\n",
       "0       7000.0\n",
       "1       7000.0\n",
       "2      15000.0\n",
       "3          0.0\n",
       "4      12000.0\n",
       "...        ...\n",
       "17120   2000.0\n",
       "17121   3000.0\n",
       "17122   2000.0\n",
       "17123   3000.0\n",
       "17124   2000.0\n",
       "\n",
       "[17125 rows x 1 columns]"
      ]
     },
     "execution_count": 323,
     "metadata": {},
     "output_type": "execute_result"
    }
   ],
   "source": [
    "df[['Wage']]"
   ]
  },
  {
   "cell_type": "code",
   "execution_count": 324,
   "id": "baa4e991-37de-4369-8ea9-81195ebfd05d",
   "metadata": {},
   "outputs": [],
   "source": [
    "df['Release Clause'] = multiply_column(df, 'Release Clause')"
   ]
  },
  {
   "cell_type": "code",
   "execution_count": 325,
   "id": "4c0ab98e-3adb-4675-be1f-e634e0fe5c70",
   "metadata": {},
   "outputs": [
    {
     "data": {
      "text/html": [
       "<div>\n",
       "<style scoped>\n",
       "    .dataframe tbody tr th:only-of-type {\n",
       "        vertical-align: middle;\n",
       "    }\n",
       "\n",
       "    .dataframe tbody tr th {\n",
       "        vertical-align: top;\n",
       "    }\n",
       "\n",
       "    .dataframe thead th {\n",
       "        text-align: right;\n",
       "    }\n",
       "</style>\n",
       "<table border=\"1\" class=\"dataframe\">\n",
       "  <thead>\n",
       "    <tr style=\"text-align: right;\">\n",
       "      <th></th>\n",
       "      <th>Release Clause</th>\n",
       "    </tr>\n",
       "  </thead>\n",
       "  <tbody>\n",
       "    <tr>\n",
       "      <th>0</th>\n",
       "      <td>0.0</td>\n",
       "    </tr>\n",
       "    <tr>\n",
       "      <th>1</th>\n",
       "      <td>1100000.0</td>\n",
       "    </tr>\n",
       "    <tr>\n",
       "      <th>2</th>\n",
       "      <td>0.0</td>\n",
       "    </tr>\n",
       "    <tr>\n",
       "      <th>3</th>\n",
       "      <td>0.0</td>\n",
       "    </tr>\n",
       "    <tr>\n",
       "      <th>4</th>\n",
       "      <td>7200000.0</td>\n",
       "    </tr>\n",
       "    <tr>\n",
       "      <th>...</th>\n",
       "      <td>...</td>\n",
       "    </tr>\n",
       "    <tr>\n",
       "      <th>17120</th>\n",
       "      <td>0.0</td>\n",
       "    </tr>\n",
       "    <tr>\n",
       "      <th>17121</th>\n",
       "      <td>273000.0</td>\n",
       "    </tr>\n",
       "    <tr>\n",
       "      <th>17122</th>\n",
       "      <td>273000.0</td>\n",
       "    </tr>\n",
       "    <tr>\n",
       "      <th>17123</th>\n",
       "      <td>784000.0</td>\n",
       "    </tr>\n",
       "    <tr>\n",
       "      <th>17124</th>\n",
       "      <td>788000.0</td>\n",
       "    </tr>\n",
       "  </tbody>\n",
       "</table>\n",
       "<p>17125 rows × 1 columns</p>\n",
       "</div>"
      ],
      "text/plain": [
       "       Release Clause\n",
       "0                 0.0\n",
       "1           1100000.0\n",
       "2                 0.0\n",
       "3                 0.0\n",
       "4           7200000.0\n",
       "...               ...\n",
       "17120             0.0\n",
       "17121        273000.0\n",
       "17122        273000.0\n",
       "17123        784000.0\n",
       "17124        788000.0\n",
       "\n",
       "[17125 rows x 1 columns]"
      ]
     },
     "execution_count": 325,
     "metadata": {},
     "output_type": "execute_result"
    }
   ],
   "source": [
    "df[['Release Clause']]"
   ]
  },
  {
   "cell_type": "code",
   "execution_count": 326,
   "id": "da2a3807-afdf-4cc8-9861-1e5689d561e6",
   "metadata": {},
   "outputs": [
    {
     "data": {
      "text/html": [
       "<div>\n",
       "<style scoped>\n",
       "    .dataframe tbody tr th:only-of-type {\n",
       "        vertical-align: middle;\n",
       "    }\n",
       "\n",
       "    .dataframe tbody tr th {\n",
       "        vertical-align: top;\n",
       "    }\n",
       "\n",
       "    .dataframe thead th {\n",
       "        text-align: right;\n",
       "    }\n",
       "</style>\n",
       "<table border=\"1\" class=\"dataframe\">\n",
       "  <thead>\n",
       "    <tr style=\"text-align: right;\">\n",
       "      <th></th>\n",
       "      <th>Contract</th>\n",
       "    </tr>\n",
       "  </thead>\n",
       "  <tbody>\n",
       "    <tr>\n",
       "      <th>0</th>\n",
       "      <td>2008 ~ 2016</td>\n",
       "    </tr>\n",
       "    <tr>\n",
       "      <th>1</th>\n",
       "      <td>2014 ~ 2019</td>\n",
       "    </tr>\n",
       "    <tr>\n",
       "      <th>2</th>\n",
       "      <td>2016 ~ 2020</td>\n",
       "    </tr>\n",
       "    <tr>\n",
       "      <th>3</th>\n",
       "      <td>2009</td>\n",
       "    </tr>\n",
       "    <tr>\n",
       "      <th>4</th>\n",
       "      <td>2018 ~ 2021</td>\n",
       "    </tr>\n",
       "    <tr>\n",
       "      <th>...</th>\n",
       "      <td>...</td>\n",
       "    </tr>\n",
       "    <tr>\n",
       "      <th>17120</th>\n",
       "      <td>Jun 30, 2021 On Loan</td>\n",
       "    </tr>\n",
       "    <tr>\n",
       "      <th>17121</th>\n",
       "      <td>2020 ~ 2021</td>\n",
       "    </tr>\n",
       "    <tr>\n",
       "      <th>17122</th>\n",
       "      <td>2020 ~ 2022</td>\n",
       "    </tr>\n",
       "    <tr>\n",
       "      <th>17123</th>\n",
       "      <td>2020 ~ 2023</td>\n",
       "    </tr>\n",
       "    <tr>\n",
       "      <th>17124</th>\n",
       "      <td>2020 ~ 2024</td>\n",
       "    </tr>\n",
       "  </tbody>\n",
       "</table>\n",
       "<p>17125 rows × 1 columns</p>\n",
       "</div>"
      ],
      "text/plain": [
       "                   Contract\n",
       "0               2008 ~ 2016\n",
       "1               2014 ~ 2019\n",
       "2               2016 ~ 2020\n",
       "3                      2009\n",
       "4               2018 ~ 2021\n",
       "...                     ...\n",
       "17120  Jun 30, 2021 On Loan\n",
       "17121           2020 ~ 2021\n",
       "17122           2020 ~ 2022\n",
       "17123           2020 ~ 2023\n",
       "17124           2020 ~ 2024\n",
       "\n",
       "[17125 rows x 1 columns]"
      ]
     },
     "execution_count": 326,
     "metadata": {},
     "output_type": "execute_result"
    }
   ],
   "source": [
    "df[['Contract']]"
   ]
  },
  {
   "cell_type": "markdown",
   "id": "8f5b9992-52a9-4004-8d16-2c41d3f52b06",
   "metadata": {},
   "source": [
    "### Separation of contract column"
   ]
  },
  {
   "cell_type": "code",
   "execution_count": 327,
   "id": "a7766a55-79ca-4e77-8243-5d8b8a464570",
   "metadata": {},
   "outputs": [],
   "source": [
    "df['available'] = df['Contract'].apply(lambda x: 1 if 'free' in x.lower() else 0)\n",
    "df['start_year'] = df['Contract'].str.split(' ~ ').str[0].str.extract('(\\d+)', expand=False).astype(float)\n",
    "df['end_year'] = df['Contract'].str.split(' ~ ').str[1].str.extract('(\\d+)', expand=False).astype(float)\n",
    "df.loc[df['available'] == 1, ['start_year', 'end_year']] = None"
   ]
  },
  {
   "cell_type": "code",
   "execution_count": 328,
   "id": "52401844-c313-4adb-acfc-f1d3b3c8ce4b",
   "metadata": {},
   "outputs": [
    {
     "data": {
      "text/html": [
       "<div>\n",
       "<style scoped>\n",
       "    .dataframe tbody tr th:only-of-type {\n",
       "        vertical-align: middle;\n",
       "    }\n",
       "\n",
       "    .dataframe tbody tr th {\n",
       "        vertical-align: top;\n",
       "    }\n",
       "\n",
       "    .dataframe thead th {\n",
       "        text-align: right;\n",
       "    }\n",
       "</style>\n",
       "<table border=\"1\" class=\"dataframe\">\n",
       "  <thead>\n",
       "    <tr style=\"text-align: right;\">\n",
       "      <th></th>\n",
       "      <th>available</th>\n",
       "    </tr>\n",
       "  </thead>\n",
       "  <tbody>\n",
       "    <tr>\n",
       "      <th>0</th>\n",
       "      <td>0</td>\n",
       "    </tr>\n",
       "    <tr>\n",
       "      <th>1</th>\n",
       "      <td>0</td>\n",
       "    </tr>\n",
       "    <tr>\n",
       "      <th>2</th>\n",
       "      <td>0</td>\n",
       "    </tr>\n",
       "    <tr>\n",
       "      <th>3</th>\n",
       "      <td>0</td>\n",
       "    </tr>\n",
       "    <tr>\n",
       "      <th>4</th>\n",
       "      <td>0</td>\n",
       "    </tr>\n",
       "    <tr>\n",
       "      <th>...</th>\n",
       "      <td>...</td>\n",
       "    </tr>\n",
       "    <tr>\n",
       "      <th>17120</th>\n",
       "      <td>0</td>\n",
       "    </tr>\n",
       "    <tr>\n",
       "      <th>17121</th>\n",
       "      <td>0</td>\n",
       "    </tr>\n",
       "    <tr>\n",
       "      <th>17122</th>\n",
       "      <td>0</td>\n",
       "    </tr>\n",
       "    <tr>\n",
       "      <th>17123</th>\n",
       "      <td>0</td>\n",
       "    </tr>\n",
       "    <tr>\n",
       "      <th>17124</th>\n",
       "      <td>0</td>\n",
       "    </tr>\n",
       "  </tbody>\n",
       "</table>\n",
       "<p>17125 rows × 1 columns</p>\n",
       "</div>"
      ],
      "text/plain": [
       "       available\n",
       "0              0\n",
       "1              0\n",
       "2              0\n",
       "3              0\n",
       "4              0\n",
       "...          ...\n",
       "17120          0\n",
       "17121          0\n",
       "17122          0\n",
       "17123          0\n",
       "17124          0\n",
       "\n",
       "[17125 rows x 1 columns]"
      ]
     },
     "execution_count": 328,
     "metadata": {},
     "output_type": "execute_result"
    }
   ],
   "source": [
    "df[['available']]"
   ]
  },
  {
   "cell_type": "code",
   "execution_count": 329,
   "id": "facc33bb-62d0-4001-9e3d-93c72fbee92a",
   "metadata": {},
   "outputs": [
    {
     "data": {
      "text/html": [
       "<div>\n",
       "<style scoped>\n",
       "    .dataframe tbody tr th:only-of-type {\n",
       "        vertical-align: middle;\n",
       "    }\n",
       "\n",
       "    .dataframe tbody tr th {\n",
       "        vertical-align: top;\n",
       "    }\n",
       "\n",
       "    .dataframe thead th {\n",
       "        text-align: right;\n",
       "    }\n",
       "</style>\n",
       "<table border=\"1\" class=\"dataframe\">\n",
       "  <thead>\n",
       "    <tr style=\"text-align: right;\">\n",
       "      <th></th>\n",
       "      <th>start_year</th>\n",
       "    </tr>\n",
       "  </thead>\n",
       "  <tbody>\n",
       "    <tr>\n",
       "      <th>0</th>\n",
       "      <td>2008.0</td>\n",
       "    </tr>\n",
       "    <tr>\n",
       "      <th>1</th>\n",
       "      <td>2014.0</td>\n",
       "    </tr>\n",
       "    <tr>\n",
       "      <th>2</th>\n",
       "      <td>2016.0</td>\n",
       "    </tr>\n",
       "    <tr>\n",
       "      <th>3</th>\n",
       "      <td>2009.0</td>\n",
       "    </tr>\n",
       "    <tr>\n",
       "      <th>4</th>\n",
       "      <td>2018.0</td>\n",
       "    </tr>\n",
       "    <tr>\n",
       "      <th>...</th>\n",
       "      <td>...</td>\n",
       "    </tr>\n",
       "    <tr>\n",
       "      <th>17120</th>\n",
       "      <td>30.0</td>\n",
       "    </tr>\n",
       "    <tr>\n",
       "      <th>17121</th>\n",
       "      <td>2020.0</td>\n",
       "    </tr>\n",
       "    <tr>\n",
       "      <th>17122</th>\n",
       "      <td>2020.0</td>\n",
       "    </tr>\n",
       "    <tr>\n",
       "      <th>17123</th>\n",
       "      <td>2020.0</td>\n",
       "    </tr>\n",
       "    <tr>\n",
       "      <th>17124</th>\n",
       "      <td>2020.0</td>\n",
       "    </tr>\n",
       "  </tbody>\n",
       "</table>\n",
       "<p>17125 rows × 1 columns</p>\n",
       "</div>"
      ],
      "text/plain": [
       "       start_year\n",
       "0          2008.0\n",
       "1          2014.0\n",
       "2          2016.0\n",
       "3          2009.0\n",
       "4          2018.0\n",
       "...           ...\n",
       "17120        30.0\n",
       "17121      2020.0\n",
       "17122      2020.0\n",
       "17123      2020.0\n",
       "17124      2020.0\n",
       "\n",
       "[17125 rows x 1 columns]"
      ]
     },
     "execution_count": 329,
     "metadata": {},
     "output_type": "execute_result"
    }
   ],
   "source": [
    "df[['start_year']]"
   ]
  },
  {
   "cell_type": "code",
   "execution_count": 330,
   "id": "59234f83-be14-4514-8f6f-260e02104977",
   "metadata": {},
   "outputs": [
    {
     "data": {
      "text/html": [
       "<div>\n",
       "<style scoped>\n",
       "    .dataframe tbody tr th:only-of-type {\n",
       "        vertical-align: middle;\n",
       "    }\n",
       "\n",
       "    .dataframe tbody tr th {\n",
       "        vertical-align: top;\n",
       "    }\n",
       "\n",
       "    .dataframe thead th {\n",
       "        text-align: right;\n",
       "    }\n",
       "</style>\n",
       "<table border=\"1\" class=\"dataframe\">\n",
       "  <thead>\n",
       "    <tr style=\"text-align: right;\">\n",
       "      <th></th>\n",
       "      <th>end_year</th>\n",
       "    </tr>\n",
       "  </thead>\n",
       "  <tbody>\n",
       "    <tr>\n",
       "      <th>0</th>\n",
       "      <td>2016.0</td>\n",
       "    </tr>\n",
       "    <tr>\n",
       "      <th>1</th>\n",
       "      <td>2019.0</td>\n",
       "    </tr>\n",
       "    <tr>\n",
       "      <th>2</th>\n",
       "      <td>2020.0</td>\n",
       "    </tr>\n",
       "    <tr>\n",
       "      <th>3</th>\n",
       "      <td>NaN</td>\n",
       "    </tr>\n",
       "    <tr>\n",
       "      <th>4</th>\n",
       "      <td>2021.0</td>\n",
       "    </tr>\n",
       "    <tr>\n",
       "      <th>...</th>\n",
       "      <td>...</td>\n",
       "    </tr>\n",
       "    <tr>\n",
       "      <th>17120</th>\n",
       "      <td>NaN</td>\n",
       "    </tr>\n",
       "    <tr>\n",
       "      <th>17121</th>\n",
       "      <td>2021.0</td>\n",
       "    </tr>\n",
       "    <tr>\n",
       "      <th>17122</th>\n",
       "      <td>2022.0</td>\n",
       "    </tr>\n",
       "    <tr>\n",
       "      <th>17123</th>\n",
       "      <td>2023.0</td>\n",
       "    </tr>\n",
       "    <tr>\n",
       "      <th>17124</th>\n",
       "      <td>2024.0</td>\n",
       "    </tr>\n",
       "  </tbody>\n",
       "</table>\n",
       "<p>17125 rows × 1 columns</p>\n",
       "</div>"
      ],
      "text/plain": [
       "       end_year\n",
       "0        2016.0\n",
       "1        2019.0\n",
       "2        2020.0\n",
       "3           NaN\n",
       "4        2021.0\n",
       "...         ...\n",
       "17120       NaN\n",
       "17121    2021.0\n",
       "17122    2022.0\n",
       "17123    2023.0\n",
       "17124    2024.0\n",
       "\n",
       "[17125 rows x 1 columns]"
      ]
     },
     "execution_count": 330,
     "metadata": {},
     "output_type": "execute_result"
    }
   ],
   "source": [
    "df[['end_year']]"
   ]
  },
  {
   "cell_type": "code",
   "execution_count": 331,
   "id": "38aec032-3d7c-4e27-8a42-8a255cb80c92",
   "metadata": {},
   "outputs": [
    {
     "data": {
      "text/plain": [
       "339"
      ]
     },
     "execution_count": 331,
     "metadata": {},
     "output_type": "execute_result"
    }
   ],
   "source": [
    "df['start_year'].isnull().sum()"
   ]
  },
  {
   "cell_type": "code",
   "execution_count": 332,
   "id": "302075e1-16a2-4ec4-8acc-7b5821af0f63",
   "metadata": {},
   "outputs": [
    {
     "data": {
      "text/plain": [
       "1300"
      ]
     },
     "execution_count": 332,
     "metadata": {},
     "output_type": "execute_result"
    }
   ],
   "source": [
    "df['end_year'].isnull().sum()"
   ]
  },
  {
   "cell_type": "code",
   "execution_count": 333,
   "id": "16def794-5627-462e-b298-72972ca5a888",
   "metadata": {},
   "outputs": [
    {
     "data": {
      "text/plain": [
       "0"
      ]
     },
     "execution_count": 333,
     "metadata": {},
     "output_type": "execute_result"
    }
   ],
   "source": [
    "df['available'].isnull().sum()"
   ]
  },
  {
   "cell_type": "code",
   "execution_count": 334,
   "id": "c3990689-37dc-4959-84d0-2536aa184652",
   "metadata": {},
   "outputs": [
    {
     "data": {
      "text/plain": [
       "339"
      ]
     },
     "execution_count": 334,
     "metadata": {},
     "output_type": "execute_result"
    }
   ],
   "source": [
    "df['Contract'].str.lower().str.contains('free').sum()"
   ]
  },
  {
   "cell_type": "code",
   "execution_count": 335,
   "id": "479492da-5932-496e-8801-6e47157e354a",
   "metadata": {},
   "outputs": [
    {
     "data": {
      "text/plain": [
       "339"
      ]
     },
     "execution_count": 335,
     "metadata": {},
     "output_type": "execute_result"
    }
   ],
   "source": [
    "df['available'].sum()"
   ]
  },
  {
   "cell_type": "markdown",
   "id": "7d60fc27-9f8f-42f4-bcec-80aa6817dd9e",
   "metadata": {},
   "source": [
    "#### Separation of position column"
   ]
  },
  {
   "cell_type": "code",
   "execution_count": 336,
   "id": "0bff6ea7-fb1c-467e-a790-a32a17da221c",
   "metadata": {},
   "outputs": [],
   "source": [
    "# Split the Position column by whitespace\n",
    "position_split = df['Position'].str.split(expand=True)\n",
    "\n",
    "# Rename the columns\n",
    "position_split.columns = [f\"position_{i+1}\" for i in range(position_split.shape[1])]\n",
    "\n",
    "# Concatenate the split columns with the original dataframe\n",
    "df = pd.concat([df, position_split], axis=1)"
   ]
  },
  {
   "cell_type": "markdown",
   "id": "405b17ae-9af7-4800-9de4-6d946c56b25b",
   "metadata": {},
   "source": [
    "### Remove stars"
   ]
  },
  {
   "cell_type": "code",
   "execution_count": 337,
   "id": "fcd78b93-26ab-4f02-9b94-d89d54f0c700",
   "metadata": {},
   "outputs": [],
   "source": [
    "df['W/F'] = df['W/F'].str.replace('★', '')"
   ]
  },
  {
   "cell_type": "code",
   "execution_count": 338,
   "id": "bd62eeb5-1f1c-45b7-b550-59ca46bf7a63",
   "metadata": {},
   "outputs": [
    {
     "data": {
      "text/html": [
       "<div>\n",
       "<style scoped>\n",
       "    .dataframe tbody tr th:only-of-type {\n",
       "        vertical-align: middle;\n",
       "    }\n",
       "\n",
       "    .dataframe tbody tr th {\n",
       "        vertical-align: top;\n",
       "    }\n",
       "\n",
       "    .dataframe thead th {\n",
       "        text-align: right;\n",
       "    }\n",
       "</style>\n",
       "<table border=\"1\" class=\"dataframe\">\n",
       "  <thead>\n",
       "    <tr style=\"text-align: right;\">\n",
       "      <th></th>\n",
       "      <th>W/F</th>\n",
       "    </tr>\n",
       "  </thead>\n",
       "  <tbody>\n",
       "    <tr>\n",
       "      <th>0</th>\n",
       "      <td>3</td>\n",
       "    </tr>\n",
       "    <tr>\n",
       "      <th>1</th>\n",
       "      <td>4</td>\n",
       "    </tr>\n",
       "    <tr>\n",
       "      <th>2</th>\n",
       "      <td>4</td>\n",
       "    </tr>\n",
       "    <tr>\n",
       "      <th>3</th>\n",
       "      <td>3</td>\n",
       "    </tr>\n",
       "    <tr>\n",
       "      <th>4</th>\n",
       "      <td>4</td>\n",
       "    </tr>\n",
       "    <tr>\n",
       "      <th>...</th>\n",
       "      <td>...</td>\n",
       "    </tr>\n",
       "    <tr>\n",
       "      <th>17120</th>\n",
       "      <td>2</td>\n",
       "    </tr>\n",
       "    <tr>\n",
       "      <th>17121</th>\n",
       "      <td>3</td>\n",
       "    </tr>\n",
       "    <tr>\n",
       "      <th>17122</th>\n",
       "      <td>3</td>\n",
       "    </tr>\n",
       "    <tr>\n",
       "      <th>17123</th>\n",
       "      <td>4</td>\n",
       "    </tr>\n",
       "    <tr>\n",
       "      <th>17124</th>\n",
       "      <td>3</td>\n",
       "    </tr>\n",
       "  </tbody>\n",
       "</table>\n",
       "<p>17125 rows × 1 columns</p>\n",
       "</div>"
      ],
      "text/plain": [
       "      W/F\n",
       "0      3 \n",
       "1      4 \n",
       "2      4 \n",
       "3      3 \n",
       "4      4 \n",
       "...    ..\n",
       "17120  2 \n",
       "17121  3 \n",
       "17122  3 \n",
       "17123  4 \n",
       "17124  3 \n",
       "\n",
       "[17125 rows x 1 columns]"
      ]
     },
     "execution_count": 338,
     "metadata": {},
     "output_type": "execute_result"
    }
   ],
   "source": [
    "df[['W/F']]"
   ]
  },
  {
   "cell_type": "code",
   "execution_count": 339,
   "id": "3a02abbf-c089-4b4f-b5c4-96a31d6cae63",
   "metadata": {},
   "outputs": [],
   "source": [
    "df['SM'] = df['SM'].str.replace('★', '')"
   ]
  },
  {
   "cell_type": "code",
   "execution_count": 340,
   "id": "580d327f-adc2-428c-b40d-7b729d098c51",
   "metadata": {},
   "outputs": [
    {
     "data": {
      "text/html": [
       "<div>\n",
       "<style scoped>\n",
       "    .dataframe tbody tr th:only-of-type {\n",
       "        vertical-align: middle;\n",
       "    }\n",
       "\n",
       "    .dataframe tbody tr th {\n",
       "        vertical-align: top;\n",
       "    }\n",
       "\n",
       "    .dataframe thead th {\n",
       "        text-align: right;\n",
       "    }\n",
       "</style>\n",
       "<table border=\"1\" class=\"dataframe\">\n",
       "  <thead>\n",
       "    <tr style=\"text-align: right;\">\n",
       "      <th></th>\n",
       "      <th>SM</th>\n",
       "    </tr>\n",
       "  </thead>\n",
       "  <tbody>\n",
       "    <tr>\n",
       "      <th>0</th>\n",
       "      <td>2</td>\n",
       "    </tr>\n",
       "    <tr>\n",
       "      <th>1</th>\n",
       "      <td>3</td>\n",
       "    </tr>\n",
       "    <tr>\n",
       "      <th>2</th>\n",
       "      <td>4</td>\n",
       "    </tr>\n",
       "    <tr>\n",
       "      <th>3</th>\n",
       "      <td>1</td>\n",
       "    </tr>\n",
       "    <tr>\n",
       "      <th>4</th>\n",
       "      <td>4</td>\n",
       "    </tr>\n",
       "    <tr>\n",
       "      <th>...</th>\n",
       "      <td>...</td>\n",
       "    </tr>\n",
       "    <tr>\n",
       "      <th>17120</th>\n",
       "      <td>2</td>\n",
       "    </tr>\n",
       "    <tr>\n",
       "      <th>17121</th>\n",
       "      <td>2</td>\n",
       "    </tr>\n",
       "    <tr>\n",
       "      <th>17122</th>\n",
       "      <td>2</td>\n",
       "    </tr>\n",
       "    <tr>\n",
       "      <th>17123</th>\n",
       "      <td>2</td>\n",
       "    </tr>\n",
       "    <tr>\n",
       "      <th>17124</th>\n",
       "      <td>3</td>\n",
       "    </tr>\n",
       "  </tbody>\n",
       "</table>\n",
       "<p>17125 rows × 1 columns</p>\n",
       "</div>"
      ],
      "text/plain": [
       "      SM\n",
       "0      2\n",
       "1      3\n",
       "2      4\n",
       "3      1\n",
       "4      4\n",
       "...   ..\n",
       "17120  2\n",
       "17121  2\n",
       "17122  2\n",
       "17123  2\n",
       "17124  3\n",
       "\n",
       "[17125 rows x 1 columns]"
      ]
     },
     "execution_count": 340,
     "metadata": {},
     "output_type": "execute_result"
    }
   ],
   "source": [
    "df[['SM']]"
   ]
  },
  {
   "cell_type": "code",
   "execution_count": 341,
   "id": "8fa4f340-a39d-4ff1-a2ab-519e60446b00",
   "metadata": {},
   "outputs": [],
   "source": [
    "df['IR'] = df['IR'].str.replace('★', '')"
   ]
  },
  {
   "cell_type": "code",
   "execution_count": 342,
   "id": "53f9d1cf-a77d-42ab-b09f-15141ee3f0c1",
   "metadata": {},
   "outputs": [
    {
     "data": {
      "text/html": [
       "<div>\n",
       "<style scoped>\n",
       "    .dataframe tbody tr th:only-of-type {\n",
       "        vertical-align: middle;\n",
       "    }\n",
       "\n",
       "    .dataframe tbody tr th {\n",
       "        vertical-align: top;\n",
       "    }\n",
       "\n",
       "    .dataframe thead th {\n",
       "        text-align: right;\n",
       "    }\n",
       "</style>\n",
       "<table border=\"1\" class=\"dataframe\">\n",
       "  <thead>\n",
       "    <tr style=\"text-align: right;\">\n",
       "      <th></th>\n",
       "      <th>IR</th>\n",
       "    </tr>\n",
       "  </thead>\n",
       "  <tbody>\n",
       "    <tr>\n",
       "      <th>0</th>\n",
       "      <td>2</td>\n",
       "    </tr>\n",
       "    <tr>\n",
       "      <th>1</th>\n",
       "      <td>1</td>\n",
       "    </tr>\n",
       "    <tr>\n",
       "      <th>2</th>\n",
       "      <td>2</td>\n",
       "    </tr>\n",
       "    <tr>\n",
       "      <th>3</th>\n",
       "      <td>1</td>\n",
       "    </tr>\n",
       "    <tr>\n",
       "      <th>4</th>\n",
       "      <td>4</td>\n",
       "    </tr>\n",
       "    <tr>\n",
       "      <th>...</th>\n",
       "      <td>...</td>\n",
       "    </tr>\n",
       "    <tr>\n",
       "      <th>17120</th>\n",
       "      <td>1</td>\n",
       "    </tr>\n",
       "    <tr>\n",
       "      <th>17121</th>\n",
       "      <td>1</td>\n",
       "    </tr>\n",
       "    <tr>\n",
       "      <th>17122</th>\n",
       "      <td>1</td>\n",
       "    </tr>\n",
       "    <tr>\n",
       "      <th>17123</th>\n",
       "      <td>1</td>\n",
       "    </tr>\n",
       "    <tr>\n",
       "      <th>17124</th>\n",
       "      <td>1</td>\n",
       "    </tr>\n",
       "  </tbody>\n",
       "</table>\n",
       "<p>17125 rows × 1 columns</p>\n",
       "</div>"
      ],
      "text/plain": [
       "       IR\n",
       "0      2 \n",
       "1      1 \n",
       "2      2 \n",
       "3      1 \n",
       "4      4 \n",
       "...    ..\n",
       "17120  1 \n",
       "17121  1 \n",
       "17122  1 \n",
       "17123  1 \n",
       "17124  1 \n",
       "\n",
       "[17125 rows x 1 columns]"
      ]
     },
     "execution_count": 342,
     "metadata": {},
     "output_type": "execute_result"
    }
   ],
   "source": [
    "df[['IR']]"
   ]
  },
  {
   "cell_type": "markdown",
   "id": "24bdb230-b4ad-457b-9f22-07567c8b0e55",
   "metadata": {},
   "source": [
    "### Slpit attribute columns into base and bonus columns"
   ]
  },
  {
   "cell_type": "code",
   "execution_count": 343,
   "id": "37510789-e976-4aa2-889e-8732b13cf2fa",
   "metadata": {},
   "outputs": [],
   "source": [
    "def split_columns(df, col_name):\n",
    "    if col_name+'_base' in df.columns and col_name+'_bonus' in df.columns:\n",
    "        print(f'Columns {col_name}_base and {col_name}_bonus already exist.')\n",
    "        return df\n",
    "    new_cols = df[col_name].str.split('+', expand=True)\n",
    "    new_cols = new_cols.rename(columns={0: col_name+'_base', 1: col_name+'_bonus'})\n",
    "    df = pd.concat([df, new_cols], axis=1)\n",
    "    return df"
   ]
  },
  {
   "cell_type": "code",
   "execution_count": 344,
   "id": "8e8b3da5-03a0-4dd8-8633-ee1508e64181",
   "metadata": {},
   "outputs": [],
   "source": [
    "df = split_columns(df, 'LS')\n",
    "df = split_columns(df, 'ST')\n",
    "df = split_columns(df, 'RS')\n",
    "df = split_columns(df, 'LW')\n",
    "df = split_columns(df, 'LF')\n",
    "df = split_columns(df, 'CF')\n",
    "df = split_columns(df, 'RF')\n",
    "df = split_columns(df, 'RW')\n",
    "df = split_columns(df, 'LAM')\n",
    "df = split_columns(df, 'CAM')\n",
    "df = split_columns(df, 'RAM')\n",
    "df = split_columns(df, 'LM')\n",
    "df = split_columns(df, 'LCM')\n",
    "df = split_columns(df, 'CM')\n",
    "df = split_columns(df, 'RCM')\n",
    "df = split_columns(df, 'RM')\n",
    "df = split_columns(df, 'LWB')\n",
    "df = split_columns(df, 'LDM')\n",
    "df = split_columns(df, 'CDM')\n",
    "df = split_columns(df, 'RDM')\n",
    "df = split_columns(df, 'RWB')\n",
    "df = split_columns(df, 'LB')\n",
    "df = split_columns(df, 'LCB')\n",
    "df = split_columns(df, 'CB')\n",
    "df = split_columns(df, 'RCB')\n",
    "df = split_columns(df, 'RB')\n",
    "df = split_columns(df, 'GK')"
   ]
  },
  {
   "cell_type": "code",
   "execution_count": 345,
   "id": "2069eefc-348b-42ec-9026-98ef6311545b",
   "metadata": {},
   "outputs": [],
   "source": [
    "df = df.drop(['LS', 'ST', 'RS', 'LW', 'LF', 'CF', 'RF', 'RW', 'LAM', 'CAM', 'RAM', 'LM', 'LCM', 'CM', 'RCM', 'RM', 'LWB', 'LDM', 'CDM', 'RDM', 'RWB', 'LB', 'LCB', 'CB', 'RCB', 'RB', 'GK', 'Contract'], axis=1)\n"
   ]
  },
  {
   "cell_type": "code",
   "execution_count": 346,
   "id": "8a0c79a1-4394-42a7-9d89-22de45957baf",
   "metadata": {},
   "outputs": [],
   "source": [
    "df.to_csv('fifa_male_excel_clean_v1.csv', index=False)\n"
   ]
  },
  {
   "cell_type": "markdown",
   "id": "1496fe6e-f44a-44ff-bdc4-d05d24a06bde",
   "metadata": {},
   "source": [
    "## Load the data from the first round of cleaning"
   ]
  },
  {
   "cell_type": "code",
   "execution_count": 347,
   "id": "6d6a1902-21f3-4b36-83f3-110402b5f492",
   "metadata": {},
   "outputs": [],
   "source": [
    "\n",
    "df=pd.read_csv('fifa_male_excel_clean_v1.csv', low_memory=False)"
   ]
  },
  {
   "cell_type": "code",
   "execution_count": 348,
   "id": "be71d9e6-9bf0-416e-8df7-2a0266e753bc",
   "metadata": {},
   "outputs": [
    {
     "name": "stdout",
     "output_type": "stream",
     "text": [
      "ID                      0\n",
      "Name                    0\n",
      "Age                     0\n",
      "OVA                     0\n",
      "Nationality             0\n",
      "Club                   23\n",
      "BOV                     0\n",
      "BP                      0\n",
      "Position              413\n",
      "POT                     0\n",
      "Team & Contract         0\n",
      "Height                  0\n",
      "Weight                  0\n",
      "foot                    0\n",
      "Growth                  0\n",
      "Joined                 58\n",
      "Loan Date End       16215\n",
      "Value                   0\n",
      "Wage                    0\n",
      "Release Clause          0\n",
      "Attacking               0\n",
      "Crossing                0\n",
      "Finishing               0\n",
      "Heading Accuracy        0\n",
      "Short Passing           0\n",
      "Volleys                58\n",
      "Skill                   0\n",
      "Dribbling               0\n",
      "Curve                  58\n",
      "FK Accuracy             0\n",
      "Long Passing            0\n",
      "Ball Control            0\n",
      "Movement                0\n",
      "Acceleration            0\n",
      "Sprint Speed            0\n",
      "Agility                58\n",
      "Reactions               0\n",
      "Balance                58\n",
      "Power                   0\n",
      "Shot Power              0\n",
      "Jumping                58\n",
      "Stamina                 0\n",
      "Strength                0\n",
      "Long Shots              0\n",
      "Mentality               0\n",
      "Aggression              0\n",
      "Interceptions           7\n",
      "Positioning             7\n",
      "Vision                 58\n",
      "Penalties               0\n",
      "Composure             423\n",
      "Defending               0\n",
      "Marking                 0\n",
      "Standing Tackle         0\n",
      "Sliding Tackle         58\n",
      "Goalkeeping             0\n",
      "GK Diving               0\n",
      "GK Handling             0\n",
      "GK Kicking              0\n",
      "GK Positioning          0\n",
      "GK Reflexes             0\n",
      "Total Stats             0\n",
      "Base Stats              0\n",
      "W/F                     0\n",
      "SM                      0\n",
      "A/W                    89\n",
      "D/W                    89\n",
      "IR                      0\n",
      "PAC                     0\n",
      "SHO                     0\n",
      "PAS                     0\n",
      "DRI                     0\n",
      "DEF                     0\n",
      "PHY                     0\n",
      "Hits                    0\n",
      "Gender                  0\n",
      "available               0\n",
      "start_year            339\n",
      "end_year             1300\n",
      "position_1            413\n",
      "position_2           8794\n",
      "position_3          14741\n",
      "position_4          17101\n",
      "LS_base                 0\n",
      "LS_bonus                0\n",
      "ST_base                 0\n",
      "ST_bonus                0\n",
      "RS_base                 0\n",
      "RS_bonus                0\n",
      "LW_base                 0\n",
      "LW_bonus                0\n",
      "LF_base                 0\n",
      "LF_bonus                0\n",
      "CF_base                 0\n",
      "CF_bonus                0\n",
      "RF_base                 0\n",
      "RF_bonus                0\n",
      "RW_base                 0\n",
      "RW_bonus                0\n",
      "LAM_base                0\n",
      "LAM_bonus               0\n",
      "CAM_base                0\n",
      "CAM_bonus               0\n",
      "RAM_base                0\n",
      "RAM_bonus               0\n",
      "LM_base                 0\n",
      "LM_bonus                0\n",
      "LCM_base                0\n",
      "LCM_bonus               0\n",
      "CM_base                 0\n",
      "CM_bonus                0\n",
      "RCM_base                0\n",
      "RCM_bonus               0\n",
      "RM_base                 0\n",
      "RM_bonus                0\n",
      "LWB_base                0\n",
      "LWB_bonus               0\n",
      "LDM_base                0\n",
      "LDM_bonus               0\n",
      "CDM_base                0\n",
      "CDM_bonus               0\n",
      "RDM_base                0\n",
      "RDM_bonus               0\n",
      "RWB_base                0\n",
      "RWB_bonus               0\n",
      "LB_base                 0\n",
      "LB_bonus                0\n",
      "LCB_base                0\n",
      "LCB_bonus               0\n",
      "CB_base                 0\n",
      "CB_bonus                0\n",
      "RCB_base                0\n",
      "RCB_bonus               0\n",
      "RB_base                 0\n",
      "RB_bonus                0\n",
      "GK_base                 0\n",
      "GK_bonus                0\n",
      "dtype: int64\n"
     ]
    }
   ],
   "source": [
    "pd.set_option('display.max_rows', 150)\n",
    "pd.set_option('display.max_columns', None)\n",
    "null_counts = df.isnull().sum()\n",
    "print(null_counts)"
   ]
  },
  {
   "cell_type": "code",
   "execution_count": 349,
   "id": "d64c7e30-6962-433e-9be6-41662d95eaf6",
   "metadata": {},
   "outputs": [],
   "source": [
    "subset = df.loc[:, ['Club', 'Position', 'Joined', 'Volleys', 'Curve', 'Agility', 'Balance', 'Jumping', 'Interceptions', 'Positioning', 'Vision', 'Composure', 'Sliding Tackle', 'A/W', 'D/W']]\n",
    "subset_null = subset.isnull()"
   ]
  },
  {
   "cell_type": "markdown",
   "id": "27732505-45d0-41d2-a93e-1a0ec8a4e579",
   "metadata": {},
   "source": [
    "#### Testing if the 58 Nulls correspond to the same rows:"
   ]
  },
  {
   "cell_type": "code",
   "execution_count": 350,
   "id": "cabf777e-960c-4bac-a27b-cde09d92091c",
   "metadata": {},
   "outputs": [
    {
     "name": "stdout",
     "output_type": "stream",
     "text": [
      "58\n"
     ]
    }
   ],
   "source": [
    "joined_null = df['Joined'].isnull()\n",
    "volleys_null = df['Volleys'].isnull()\n",
    "curve_null = df['Curve'].isnull()\n",
    "agility_null = df['Agility'].isnull()\n",
    "balance_null = df['Balance'].isnull()\n",
    "jumping_null = df['Jumping'].isnull()\n",
    "vision_null = df['Vision'].isnull()\n",
    "sliding_tackle_null = df['Sliding Tackle'].isnull()\n",
    "\n",
    "# combine into a single array\n",
    "combined_null = np.array([joined_null, volleys_null, curve_null, agility_null, balance_null, jumping_null, vision_null, sliding_tackle_null])\n",
    "\n",
    "#Check if the 58 rows all have nulls in the same places \n",
    "print(np.all(combined_null, axis=0).sum())\n"
   ]
  },
  {
   "cell_type": "markdown",
   "id": "84c329e0-323a-478b-b1f0-f8698acda7c2",
   "metadata": {},
   "source": [
    "#### Remove the 58 rows that contain simultaneous nulls in the columns listed above"
   ]
  },
  {
   "cell_type": "code",
   "execution_count": 351,
   "id": "163d89d7-07fe-46a3-bff7-a0e1db0bddd8",
   "metadata": {},
   "outputs": [],
   "source": [
    "df.dropna(subset=['Joined', 'Volleys', 'Curve', 'Agility', 'Balance', 'Jumping', 'Vision', 'Sliding Tackle'], inplace=True)"
   ]
  },
  {
   "cell_type": "code",
   "execution_count": 352,
   "id": "c7657f66-f9e5-48bf-abae-782aaea597d8",
   "metadata": {},
   "outputs": [
    {
     "name": "stdout",
     "output_type": "stream",
     "text": [
      "Position         0.023027\n",
      "Loan Date End    0.946681\n",
      "Composure        0.021386\n",
      "start_year       0.019453\n",
      "end_year         0.072772\n",
      "position_1       0.023027\n",
      "position_2       0.511865\n",
      "position_3       0.860315\n",
      "position_4       0.998594\n",
      "dtype: float64\n"
     ]
    }
   ],
   "source": [
    "pd.set_option('display.max_rows', 150)\n",
    "pd.set_option('display.max_columns', None)\n",
    "null_counts = df.isnull().sum()\n",
    "null_percentages = null_counts/df.isnull().count()\n",
    "null_percentages = null_percentages[null_percentages > 0.01]\n",
    "print(null_percentages)"
   ]
  },
  {
   "cell_type": "markdown",
   "id": "e378e3de-8969-439d-a934-0714df917824",
   "metadata": {},
   "source": [
    "#### The loan end date column has over 94% of Null values, we will drop that column"
   ]
  },
  {
   "cell_type": "code",
   "execution_count": 353,
   "id": "1df1c8de-daef-4f56-a1ac-466e705a7f0e",
   "metadata": {},
   "outputs": [],
   "source": [
    "df = df.drop('Loan Date End', axis=1)"
   ]
  },
  {
   "cell_type": "code",
   "execution_count": 354,
   "id": "f5e40ab9-ce42-4224-a508-ca845b55a00f",
   "metadata": {},
   "outputs": [
    {
     "name": "stdout",
     "output_type": "stream",
     "text": [
      "Position      0.023027\n",
      "Composure     0.021386\n",
      "start_year    0.019453\n",
      "end_year      0.072772\n",
      "position_1    0.023027\n",
      "position_2    0.511865\n",
      "position_3    0.860315\n",
      "position_4    0.998594\n",
      "dtype: float64\n"
     ]
    }
   ],
   "source": [
    "pd.set_option('display.max_rows', 150)\n",
    "pd.set_option('display.max_columns', None)\n",
    "null_counts = df.isnull().sum()\n",
    "null_percentages = null_counts/df.isnull().count()\n",
    "null_percentages = null_percentages[null_percentages > 0.01]\n",
    "print(null_percentages)"
   ]
  },
  {
   "cell_type": "markdown",
   "id": "5ff5be53-f019-456c-8f92-7e866e207d2b",
   "metadata": {},
   "source": [
    "### We will use Machine Learning to infer the Position 1, for the time being I will ignore the other positions"
   ]
  },
  {
   "cell_type": "code",
   "execution_count": 355,
   "id": "6d8edd78-4ca1-4fdc-8f2f-f867eea296a7",
   "metadata": {},
   "outputs": [],
   "source": [
    "from sklearn.preprocessing import LabelEncoder\n",
    "\n",
    "# Create a label encoder object\n",
    "encoder = LabelEncoder()\n",
    "\n",
    "# Fit the encoder to the Position column\n",
    "encoder.fit(df['position_1'])\n",
    "\n",
    "# Transform the Position column using the fitted encoder\n",
    "df['Position_code'] = encoder.transform(df['position_1'])"
   ]
  },
  {
   "cell_type": "code",
   "execution_count": 366,
   "id": "bbb45518-a3f3-45d6-820f-d9a7e6e1b99b",
   "metadata": {},
   "outputs": [
    {
     "data": {
      "image/png": "[encoded data removed]",
      "text/plain": [
       "<Figure size 864x288 with 1 Axes>"
      ]
     },
     "metadata": {
      "needs_background": "light"
     },
     "output_type": "display_data"
    }
   ],
   "source": [
    "for c in ['position_1']:\n",
    "    \n",
    "    plt.figure(figsize=(12,4))\n",
    "    x = df[c].value_counts().index.astype(str)  # use the index of value_counts as x\n",
    "    plt.bar(x, df[c].value_counts())\n",
    "    plt.title(c)\n",
    "    plt.show()\n"
   ]
  },
  {
   "cell_type": "code",
   "execution_count": 357,
   "id": "5334e554-bedc-4437-9772-5a73e28a121f",
   "metadata": {},
   "outputs": [
    {
     "data": {
      "text/plain": [
       "array(['LM', 'CM', 'CAM', 'RW', 'RB', 'CDM', 'ST', nan, 'RM', 'CB', 'GK',\n",
       "       'CF', 'LB', 'LWB', 'LW', 'RWB', 'ACB', 'IVST', 'ND', 'IILB',\n",
       "       'IIRM'], dtype=object)"
      ]
     },
     "execution_count": 357,
     "metadata": {},
     "output_type": "execute_result"
    }
   ],
   "source": [
    "df['position_1'].unique()"
   ]
  },
  {
   "cell_type": "code",
   "execution_count": null,
   "id": "1b0d45c2-e024-4bf5-8065-3a81f20f0653",
   "metadata": {},
   "outputs": [],
   "source": [
    "\n"
   ]
  },
  {
   "cell_type": "code",
   "execution_count": null,
   "id": "8de946d5-a529-4aee-a262-8621d669968e",
   "metadata": {},
   "outputs": [],
   "source": []
  },
  {
   "cell_type": "code",
   "execution_count": null,
   "id": "7308b789-9abb-43b5-8b6e-f32649a6fbca",
   "metadata": {},
   "outputs": [],
   "source": []
  },
  {
   "cell_type": "code",
   "execution_count": null,
   "id": "c4f5957f-d09c-4ab4-aff3-d68d105a728a",
   "metadata": {},
   "outputs": [],
   "source": []
  }
 ],
 "metadata": {
  "kernelspec": {
   "display_name": "Python 3 (ipykernel)",
   "language": "python",
   "name": "python3"
  },
  "language_info": {
   "codemirror_mode": {
    "name": "ipython",
    "version": 3
   },
   "file_extension": ".py",
   "mimetype": "text/x-python",
   "name": "python",
   "nbconvert_exporter": "python",
   "pygments_lexer": "ipython3",
   "version": "3.9.12"
  }
 },
 "nbformat": 4,
 "nbformat_minor": 5
}
